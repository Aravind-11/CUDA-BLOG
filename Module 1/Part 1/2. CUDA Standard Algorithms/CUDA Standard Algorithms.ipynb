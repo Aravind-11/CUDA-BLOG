{
 "cells": [
  {
   "cell_type": "markdown",
   "id": "27af4a62-0104-4504-9bfe-783a932aec74",
   "metadata": {},
   "source": [
    "# Extending Standard Algorithms for Particle Simulations\n",
    "\n",
    "In this notebook, we'll explore techniques for extending standard algorithms to solve problems efficiently in our particle simulation system. We'll look at how to use iterators to optimize memory usage and improve performance.\n",
    "\n",
    "\n",
    "<img src=\"./images/image4.svg\" width=\"800\" height=\"600\">\n",
    "\n",
    "\n",
    "\n",
    "\n",
    "## Table of Contents\n",
    "\n",
    "- The Challenge: Finding Maximum Displacement\n",
    "- Naive Implementation\n",
    "- Understanding Iterators\n",
    "- CUDA Fancy Iterators\n",
    "- Optimized Implementation\n",
    "- Performance Evaluation\n",
    "\n",
    "## The Challenge: Finding Maximum Displacement\n",
    "\n",
    "In our particle simulation, we want to track how much particles move between timesteps. Specifically, we want to find the maximum displacement of any particle in each simulation step.\n",
    "\n",
    "Given two snapshots of our particle system (before and after a simulation step), we need to compute the maximum displacement across all particles.\n",
    "\n",
    "Naive Implementation\n",
    "Let's start with a straightforward implementation that computes the displacements and then finds the maximum:"
   ]
  },
  {
   "cell_type": "code",
   "execution_count": 2,
   "id": "cc0eebae-fb7d-41dd-84a1-d63d29879b52",
   "metadata": {},
   "outputs": [],
   "source": [
    "#Specifying path to where nvcc exists so that the jupyter notebook reads from it. nvcc is the nvidia cuda compiler for executing cuda. \n",
    "import os\n",
    "os.environ['PATH'] = \"/packages/apps/spack/21/opt/spack/linux-rocky8-zen3/gcc-12.1.0/cuda-12.6.1-cf4xlcbcfpwchqwo5bktxyhjagryzcx6/bin:\" + os.environ['PATH']"
   ]
  },
  {
   "cell_type": "code",
   "execution_count": 3,
   "id": "ae43a8fc-bb0c-4536-95fe-1d4578269c27",
   "metadata": {},
   "outputs": [
    {
     "name": "stdout",
     "output_type": "stream",
     "text": [
      "Overwriting codes/naive_max_displacement.cu\n"
     ]
    }
   ],
   "source": [
    "%%writefile codes/naive_max_displacement.cu\n",
    "#include <thrust/universal_vector.h>\n",
    "#include <thrust/transform.h>\n",
    "#include <thrust/execution_policy.h>\n",
    "#include <thrust/reduce.h>\n",
    "#include <cstdio>\n",
    "#include <cmath>\n",
    "\n",
    "struct Particle {\n",
    "    float x, y;    // position\n",
    "    float vx, vy;  // velocity\n",
    "};\n",
    "\n",
    "// Calculate distance between two positions\n",
    "float distance(float x1, float y1, float x2, float y2) {\n",
    "    float dx = x2 - x1;\n",
    "    float dy = y2 - y1;\n",
    "    return sqrt(dx*dx + dy*dy);\n",
    "}\n",
    "\n",
    "// Naive approach to find maximum displacement\n",
    "float naive_max_displacement(const thrust::universal_vector<Particle>& before, \n",
    "                           const thrust::universal_vector<Particle>& after) \n",
    "{\n",
    "    // Allocate vector to store displacements (temporary storage)\n",
    "    thrust::universal_vector<float> displacements(before.size());\n",
    "\n",
    "    // Compute displacements\n",
    "    thrust::transform(thrust::device, \n",
    "                     before.begin(), before.end(),           // first input sequence  \n",
    "                     after.begin(),                          // second input sequence\n",
    "                     displacements.begin(),                  // output\n",
    "                     [=] __host__ __device__ (const Particle& p1, const Particle& p2) {\n",
    "                         // Calculate displacement between positions\n",
    "                         return distance(p1.x, p1.y, p2.x, p2.y);\n",
    "                     });\n",
    "\n",
    "    // Find maximum displacement\n",
    "    return thrust::reduce(thrust::device, \n",
    "                         displacements.begin(), \n",
    "                         displacements.end(), \n",
    "                         0.0f, thrust::maximum<float>{});\n",
    "}\n",
    "\n",
    "int main() \n",
    "{\n",
    "    float dt = 0.1f;  // time step\n",
    "    \n",
    "    // Create two arrays to store particle states in alternating steps\n",
    "    thrust::universal_vector<Particle> particles[2] = {\n",
    "        // Initial state\n",
    "        {\n",
    "            {0.0f, 0.0f, 1.0f, 0.5f},    // Particle 1\n",
    "            {1.0f, 2.0f, -0.5f, 0.2f},   // Particle 2\n",
    "            {-1.0f, -1.0f, 0.3f, 0.7f}   // Particle 3\n",
    "        },\n",
    "        // Empty state for next timestep\n",
    "        {}\n",
    "    };\n",
    "    particles[1].resize(particles[0].size());\n",
    "    \n",
    "    // Update function - applies velocity to position\n",
    "    auto update_particle = [=] __host__ __device__ (const Particle& p) {\n",
    "        Particle updated = p;\n",
    "        updated.x += p.vx * dt;\n",
    "        updated.y += p.vy * dt;\n",
    "        return updated;\n",
    "    };\n",
    "    \n",
    "    std::printf(\"step  max_displacement\\n\");\n",
    "    for (int step = 0; step < 3; step++) {\n",
    "        // Get references to current and next state arrays\n",
    "        thrust::universal_vector<Particle>& current = particles[step % 2];\n",
    "        thrust::universal_vector<Particle>& next = particles[(step + 1) % 2];\n",
    "        \n",
    "        // Update particle positions\n",
    "        thrust::transform(thrust::device, \n",
    "                         current.begin(), current.end(), \n",
    "                         next.begin(), \n",
    "                         update_particle);\n",
    "        \n",
    "        // Calculate maximum displacement\n",
    "        float max_disp = naive_max_displacement(current, next);\n",
    "        std::printf(\"%d     %.4f\\n\", step, max_disp);\n",
    "    }\n",
    "    \n",
    "    return 0;\n",
    "}"
   ]
  },
  {
   "cell_type": "markdown",
   "id": "9cf893a6-ed0d-45d7-8038-2cf0cf8a8a4e",
   "metadata": {},
   "source": [
    "Let's compile and run this:\n"
   ]
  },
  {
   "cell_type": "code",
   "execution_count": 4,
   "id": "49c589f6-9ec0-472b-a143-e5b414864c08",
   "metadata": {},
   "outputs": [
    {
     "name": "stderr",
     "output_type": "stream",
     "text": [
      "codes/naive_max_displacement.cu(34): warning #20011-D: calling a __host__ function(\"distance(float, float, float, float)\") from a __host__ __device__ function(\"naive_max_displacement(const  ::thrust::THRUST_200500_520_NS::detail::vector_base<    ::Particle,  ::thrust::THRUST_200500_520_NS::mr::stateless_resource_allocator<    ::Particle,  ::thrust::THRUST_200500_520_NS::system::cuda::detail::cuda_memory_resource<&thrust::THRUST_200500_520_NS::system::cuda::detail::cudaMallocManaged, &::cudaFree,  ::thrust::THRUST_200500_520_NS::pointer<void,  ::thrust::THRUST_200500_520_NS::cuda_cub::tag, void,  ::thrust::THRUST_200500_520_NS::use_default> > > >  &, const  ::thrust::THRUST_200500_520_NS::detail::vector_base<    ::Particle,  ::thrust::THRUST_200500_520_NS::mr::stateless_resource_allocator<    ::Particle,  ::thrust::THRUST_200500_520_NS::system::cuda::detail::cuda_memory_resource<&thrust::THRUST_200500_520_NS::system::cuda::detail::cudaMallocManaged, &::cudaFree,  ::thrust::THRUST_200500_520_NS::pointer<void,  ::thrust::THRUST_200500_520_NS::cuda_cub::tag, void,  ::thrust::THRUST_200500_520_NS::use_default> > > >  &)::[lambda(const     ::Particle &, const     ::Particle &) (instance 1)]::operator () const\") is not allowed\n",
      "\n",
      "Remark: The warnings can be suppressed with \"-diag-suppress <warning-number>\"\n",
      "\n"
     ]
    },
    {
     "name": "stdout",
     "output_type": "stream",
     "text": [
      "step  max_displacement\n",
      "0     0.0000\n",
      "1     0.0000\n",
      "2     0.0000\n"
     ]
    }
   ],
   "source": [
    "%%bash\n",
    "nvcc --extended-lambda -o codes/naive_displacement codes/naive_max_displacement.cu\n",
    "./codes/naive_displacement"
   ]
  },
  {
   "cell_type": "markdown",
   "id": "fb79bbf1-d75e-4cbe-a452-9b4e5b96baa8",
   "metadata": {},
   "source": [
    "This implementation works but has a key inefficiency: **we allocate temporary storage** for all the displacements, even though we only need the maximum value. For large simulations, this wastes valuable GPU memory and requires extra memory operations.\n",
    "\n",
    "Let's count the memory operations:\n",
    "\n",
    "- Read positions from before vector: 2n floats (x, y for each particle)\n",
    "- Read positions from after vector: 2n floats\n",
    "- Write displacements to temporary storage: n floats\n",
    "- Read displacements for reduction: n floats\n",
    "\n",
    "Total: 5n memory operations. If we could avoid the temporary storage, we could reduce this to 4n operations.\n",
    "\n",
    "## Understanding Iterators\n",
    "\n",
    "Before optimizing our code, let's understand what iterators are and how they can help us.\n",
    "\n",
    "Iterators can be thought of as a generalization of pointers:\n",
    "\n",
    "- They point to elements in a sequence\n",
    "- They can be dereferenced to access the current element\n",
    "- They can be incremented to point to the next element\n",
    "\n",
    "The key difference is that iterators can perform computations on-the-fly when dereferenced, without storing intermediate results.\n",
    "\n",
    "Let's look at a few simple iterator examples:\n",
    "\n",
    "## Simple Counting Iterator\n"
   ]
  },
  {
   "cell_type": "code",
   "execution_count": 13,
   "id": "5bbbd0ca-4681-457a-8a96-7115c33cbc22",
   "metadata": {},
   "outputs": [
    {
     "name": "stdout",
     "output_type": "stream",
     "text": [
      "Overwriting codes/counting_iterator.cu\n"
     ]
    }
   ],
   "source": [
    "%%writefile codes/counting_iterator.cu\n",
    "#include <cstdio>\n",
    "\n",
    "// A simple iterator that generates a sequence of integers\n",
    "struct CountingIterator {\n",
    "    // Returns the value at index i\n",
    "    __host__ __device__\n",
    "    int operator[](int i) {\n",
    "        return i;\n",
    "    }\n",
    "};\n",
    "\n",
    "int main() {\n",
    "    CountingIterator counter;\n",
    "    \n",
    "    printf(\"counter[0]: %d\\n\", counter[0]);  // Prints 0\n",
    "    printf(\"counter[5]: %d\\n\", counter[5]);  // Prints 5\n",
    "    printf(\"counter[10]: %d\\n\", counter[10]);  // Prints 10\n",
    "    \n",
    "    return 0;\n",
    "}"
   ]
  },
  {
   "cell_type": "code",
   "execution_count": 16,
   "id": "f4a6ebf6-b9df-466e-86b6-6a762d71ea1f",
   "metadata": {},
   "outputs": [
    {
     "name": "stdout",
     "output_type": "stream",
     "text": [
      "counter[0]: 0\n",
      "counter[5]: 5\n",
      "counter[10]: 10\n"
     ]
    }
   ],
   "source": [
    "%%bash\n",
    "nvcc -o codes/counting_iterator codes/counting_iterator.cu\n",
    "./codes/counting_iterator\n"
   ]
  },
  {
   "cell_type": "markdown",
   "id": "f2fb0970-b97a-406a-8e98-b835261d9529",
   "metadata": {},
   "source": [
    "This iterator generates an infinite sequence of integers without allocating any storage!\n"
   ]
  },
  {
   "cell_type": "markdown",
   "id": "56056c7c-f31d-4f2c-815a-5d7953096f68",
   "metadata": {},
   "source": [
    "## Transform Iterator\n",
    "Let's create an iterator that transforms values from an underlying container:\n"
   ]
  },
  {
   "cell_type": "code",
   "execution_count": 17,
   "id": "61901d73-fff2-4a8b-a637-d099d5a63bbc",
   "metadata": {},
   "outputs": [
    {
     "name": "stdout",
     "output_type": "stream",
     "text": [
      "Writing codes/transform_iterator.cu\n"
     ]
    }
   ],
   "source": [
    "%%writefile codes/transform_iterator.cu\n",
    "#include <cstdio>\n",
    "#include <array>\n",
    "\n",
    "// An iterator that transforms values from an array\n",
    "struct TransformIterator {\n",
    "    float* data;\n",
    "    \n",
    "    // Multiplies each value by 2\n",
    "    __host__ __device__\n",
    "    float operator[](int i) {\n",
    "        return data[i] * 2.0f;\n",
    "    }\n",
    "};\n",
    "\n",
    "int main() {\n",
    "    std::array<float, 3> values{1.0f, 2.0f, 3.0f};\n",
    "    \n",
    "    TransformIterator transformer{values.data()};\n",
    "    \n",
    "    printf(\"Original: %.1f, Transformed: %.1f\\n\", values[0], transformer[0]);  // 1.0, 2.0\n",
    "    printf(\"Original: %.1f, Transformed: %.1f\\n\", values[1], transformer[1]);  // 2.0, 4.0\n",
    "    printf(\"Original: %.1f, Transformed: %.1f\\n\", values[2], transformer[2]);  // 3.0, 6.0\n",
    "    \n",
    "    return 0;\n",
    "}"
   ]
  },
  {
   "cell_type": "code",
   "execution_count": 18,
   "id": "8d533a27-94ce-4048-9567-e76014aa380b",
   "metadata": {},
   "outputs": [
    {
     "name": "stdout",
     "output_type": "stream",
     "text": [
      "Original: 1.0, Transformed: 2.0\n",
      "Original: 2.0, Transformed: 4.0\n",
      "Original: 3.0, Transformed: 6.0\n"
     ]
    }
   ],
   "source": [
    "%%bash\n",
    "nvcc -o codes/transform codes/transform_iterator.cu\n",
    "./codes/transform"
   ]
  },
  {
   "cell_type": "markdown",
   "id": "06521581-bc6f-40d0-8048-ab8438d6bb44",
   "metadata": {},
   "source": [
    "## Zip Iterator\n",
    "\n",
    "Now let's create an iterator that combines elements from two containers:"
   ]
  },
  {
   "cell_type": "code",
   "execution_count": 19,
   "id": "0dde2f0c-f390-42d6-b0b6-96d296b19e1c",
   "metadata": {},
   "outputs": [
    {
     "name": "stdout",
     "output_type": "stream",
     "text": [
      "Writing codes/zip_iterator.cu\n"
     ]
    }
   ],
   "source": [
    "%%writefile codes/zip_iterator.cu\n",
    "#include <cstdio>\n",
    "#include <array>\n",
    "#include <tuple>\n",
    "\n",
    "// An iterator that combines elements from two arrays\n",
    "struct ZipIterator {\n",
    "    float* positions;\n",
    "    float* velocities;\n",
    "    \n",
    "    // Returns a tuple containing the position and velocity\n",
    "    __host__ __device__\n",
    "    std::tuple<float, float> operator[](int i) {\n",
    "        return {positions[i], velocities[i]};\n",
    "    }\n",
    "};\n",
    "\n",
    "int main() {\n",
    "    std::array<float, 3> positions{0.0f, 1.0f, 2.0f};\n",
    "    std::array<float, 3> velocities{0.5f, -0.3f, 1.0f};\n",
    "    \n",
    "    ZipIterator zipIter{positions.data(), velocities.data()};\n",
    "    \n",
    "    for (int i = 0; i < 3; i++) {\n",
    "        auto [pos, vel] = zipIter[i];\n",
    "        printf(\"Particle %d: position=%.1f, velocity=%.1f\\n\", i, pos, vel);\n",
    "    }\n",
    "    \n",
    "    return 0;\n",
    "}"
   ]
  },
  {
   "cell_type": "code",
   "execution_count": 20,
   "id": "9e197ebf-3a1f-4775-bf97-6d989086733e",
   "metadata": {},
   "outputs": [
    {
     "name": "stderr",
     "output_type": "stream",
     "text": [
      "codes/zip_iterator.cu(24): warning #3356-D: structured bindings are a C++17 feature\n",
      "          auto [pos, vel] = zipIter[i];\n",
      "               ^\n",
      "\n",
      "Remark: The warnings can be suppressed with \"-diag-suppress <warning-number>\"\n",
      "\n",
      "codes/zip_iterator.cu(13): warning #20015-D: calling a constexpr __host__ function from a __host__ __device__ function is not allowed. The experimental flag '--expt-relaxed-constexpr' can be used to allow this.\n",
      "          return {positions[i], velocities[i]};\n",
      "          ^\n",
      "\n",
      "Remark: The warnings can be suppressed with \"-diag-suppress <warning-number>\"\n",
      "\n",
      "codes/zip_iterator.cu(24): warning #3356-D: structured bindings are a C++17 feature\n",
      "          auto [pos, vel] = zipIter[i];\n",
      "               ^\n",
      "\n",
      "codes/zip_iterator.cu(13): warning #20013-D: calling a constexpr __host__ function(\"std::tuple<float, float > ::tuple<float &, float &, (bool)1> (T1 &&, T2 &&)\") from a __host__ __device__ function(\"ZipIterator::operator []\") is not allowed. The experimental flag '--expt-relaxed-constexpr' can be used to allow this.\n",
      "\n",
      "codes/zip_iterator.cu: In function ‘int main()’:\n",
      "codes/zip_iterator.cu:24:6: warning: structured bindings only available with -std=c++17 or -std=gnu++17\n",
      "         auto [pos, vel] = zipIter[i];\n",
      "      ^\n"
     ]
    },
    {
     "name": "stdout",
     "output_type": "stream",
     "text": [
      "Particle 0: position=0.0, velocity=0.5\n",
      "Particle 1: position=1.0, velocity=-0.3\n",
      "Particle 2: position=2.0, velocity=1.0\n"
     ]
    }
   ],
   "source": [
    "%%bash\n",
    "nvcc -o codes/zip codes/zip_iterator.cu\n",
    "./codes/zip"
   ]
  },
  {
   "cell_type": "markdown",
   "id": "22170796-bf45-4319-80eb-8ae45a2268e2",
   "metadata": {},
   "source": [
    "## Combining Iterators\n",
    "\n",
    "The real power comes when we combine these iterator concepts. Let's create a combined iterator that can compute particle displacements without temporary storage:"
   ]
  },
  {
   "cell_type": "code",
   "execution_count": 20,
   "id": "096cb4b0-f231-485a-b37e-5500477929b6",
   "metadata": {},
   "outputs": [
    {
     "name": "stdout",
     "output_type": "stream",
     "text": [
      "Overwriting codes/combined_iterator.cu\n"
     ]
    }
   ],
   "source": [
    "%%writefile codes/combined_iterator.cu\n",
    "#include <cstdio>\n",
    "#include <array>\n",
    "#include <tuple>\n",
    "#include <cmath>\n",
    "\n",
    "struct Particle {\n",
    "    float x, y;    // position\n",
    "};\n",
    "\n",
    "// Zip iterator to combine two particle arrays\n",
    "struct ParticleZipIterator {\n",
    "    Particle* before;\n",
    "    Particle* after;\n",
    "    \n",
    "    // Returns a tuple containing both particle states\n",
    "    __host__ __device__\n",
    "    std::tuple<Particle, Particle> operator[](int i) {\n",
    "        return {before[i], after[i]};\n",
    "    }\n",
    "};\n",
    "\n",
    "// Displacement iterator that computes distance between particle positions\n",
    "struct DisplacementIterator {\n",
    "    ParticleZipIterator zip;\n",
    "    \n",
    "    // Computes distance without storing intermediate results\n",
    "    __host__ __device__\n",
    "    float operator[](int i) {\n",
    "        auto [p1, p2] = zip[i];\n",
    "        float dx = p2.x - p1.x;\n",
    "        float dy = p2.y - p1.y;\n",
    "        return sqrt(dx*dx + dy*dy);\n",
    "    }\n",
    "};\n",
    "\n",
    "int main() {\n",
    "    Particle before[3] = {\n",
    "        {0.0f, 0.0f},\n",
    "        {1.0f, 2.0f},\n",
    "        {-1.0f, -1.0f}\n",
    "    };\n",
    "    \n",
    "    Particle after[3] = {\n",
    "        {0.1f, 0.05f},\n",
    "        {0.95f, 2.02f},\n",
    "        {-0.97f, -0.93f}\n",
    "    };\n",
    "    \n",
    "    ParticleZipIterator zipIter{before, after};\n",
    "    DisplacementIterator dispIter{zipIter};\n",
    "    \n",
    "    for (int i = 0; i < 3; i++) {\n",
    "        printf(\"Particle %d displacement: %.4f\\n\", i, dispIter[i]);\n",
    "    }\n",
    "    \n",
    "    // Find maximum displacement manually\n",
    "    float max_disp = 0.0f;\n",
    "    for (int i = 0; i < 3; i++) {\n",
    "        max_disp = fmax(max_disp, dispIter[i]);\n",
    "    }\n",
    "    \n",
    "    printf(\"Maximum displacement: %.4f\\n\", max_disp);\n",
    "    \n",
    "    return 0;\n",
    "}"
   ]
  },
  {
   "cell_type": "code",
   "execution_count": 21,
   "id": "4adb6806-54a5-403b-b269-4b9d1f2fbff3",
   "metadata": {},
   "outputs": [
    {
     "name": "stderr",
     "output_type": "stream",
     "text": [
      "codes/combined_iterator.cu(29): warning #3356-D: structured bindings are a C++17 feature\n",
      "          auto [p1, p2] = zip[i];\n",
      "               ^\n",
      "\n",
      "Remark: The warnings can be suppressed with \"-diag-suppress <warning-number>\"\n",
      "\n",
      "codes/combined_iterator.cu(18): warning #20015-D: calling a constexpr __host__ function from a __host__ __device__ function is not allowed. The experimental flag '--expt-relaxed-constexpr' can be used to allow this.\n",
      "          return {before[i], after[i]};\n",
      "          ^\n",
      "\n",
      "Remark: The warnings can be suppressed with \"-diag-suppress <warning-number>\"\n",
      "\n",
      "codes/combined_iterator.cu(29): warning #3356-D: structured bindings are a C++17 feature\n",
      "          auto [p1, p2] = zip[i];\n",
      "               ^\n",
      "\n",
      "codes/combined_iterator.cu(29): warning #20015-D: calling a constexpr __host__ function from a __host__ __device__ function is not allowed. The experimental flag '--expt-relaxed-constexpr' can be used to allow this.\n",
      "          auto [p1, p2] = zip[i];\n",
      "                ^\n",
      "\n",
      "codes/combined_iterator.cu(29): warning #20015-D: calling a constexpr __host__ function from a __host__ __device__ function is not allowed. The experimental flag '--expt-relaxed-constexpr' can be used to allow this.\n",
      "          auto [p1, p2] = zip[i];\n",
      "                    ^\n",
      "\n",
      "codes/combined_iterator.cu(18): warning #20013-D: calling a constexpr __host__ function(\"std::tuple<    ::Particle,     ::Particle > ::tuple<    ::Particle &,     ::Particle &, (bool)1> (T1 &&, T2 &&)\") from a __host__ __device__ function(\"ParticleZipIterator::operator []\") is not allowed. The experimental flag '--expt-relaxed-constexpr' can be used to allow this.\n",
      "\n",
      "codes/combined_iterator.cu(29): warning #20013-D: calling a constexpr __host__ function(\"std::tuple_element<T1,     ::std::tuple<T2... > > ::type &&  ::std::get<(unsigned long)0ul,     ::Particle,     ::Particle > (    ::std::tuple<T2... >  &&)\") from a __host__ __device__ function(\"DisplacementIterator::operator []\") is not allowed. The experimental flag '--expt-relaxed-constexpr' can be used to allow this.\n",
      "\n",
      "codes/combined_iterator.cu(29): warning #20013-D: calling a constexpr __host__ function(\"std::tuple_element<T1,     ::std::tuple<T2... > > ::type &&  ::std::get<(unsigned long)1ul,     ::Particle,     ::Particle > (    ::std::tuple<T2... >  &&)\") from a __host__ __device__ function(\"DisplacementIterator::operator []\") is not allowed. The experimental flag '--expt-relaxed-constexpr' can be used to allow this.\n",
      "\n",
      "codes/combined_iterator.cu: In member function ‘float DisplacementIterator::operator[](int)’:\n",
      "codes/combined_iterator.cu:29:6: warning: structured bindings only available with -std=c++17 or -std=gnu++17\n",
      "         auto [p1, p2] = zip[i];\n",
      "      ^\n"
     ]
    },
    {
     "name": "stdout",
     "output_type": "stream",
     "text": [
      "Particle 0 displacement: 0.1118\n",
      "Particle 1 displacement: 0.0539\n",
      "Particle 2 displacement: 0.0762\n",
      "Maximum displacement: 0.1118\n"
     ]
    }
   ],
   "source": [
    "%%bash\n",
    "nvcc -o codes/combined_iterator codes/combined_iterator.cu\n",
    "./codes/combined_iterator"
   ]
  },
  {
   "cell_type": "markdown",
   "id": "677eb4e9-9e4f-4819-add6-c759640487b4",
   "metadata": {},
   "source": [
    "This example shows how we can compute displacements on-the-fly without storing intermediate results!\n",
    "\n",
    "# CUDA Fancy Iterators\n",
    "\n",
    "Thrust provides several built-in iterators that implement these concepts in a GPU-optimized way:\n",
    "\n",
    "- thrust::counting_iterator: Generates a sequence of numbers\n",
    "- thrust::transform_iterator: Applies a function to elements of another iterator\n",
    "- thrust::zip_iterator: Combines multiple iterators into one\n",
    "- thrust::permutation_iterator: Reorders elements of another iterator\n",
    "- thrust::discard_iterator: Ignores any values assigned to it\n",
    "\n",
    "Let's see how to use these in our particle simulation:\n",
    "\n",
    "## Using Zip Iterator\n",
    "First, let's see how to use the thrust::zip_iterator:"
   ]
  },
  {
   "cell_type": "code",
   "execution_count": 8,
   "id": "05dfbaf5-d657-4179-aea2-a1ac463a42a3",
   "metadata": {},
   "outputs": [
    {
     "name": "stdout",
     "output_type": "stream",
     "text": [
      "Overwriting codes/thrust_zip.cu\n"
     ]
    }
   ],
   "source": [
    "%%writefile codes/thrust_zip.cu\n",
    "#include <thrust/device_vector.h>  // Use device_vector instead of universal_vector for compatibility\n",
    "#include <thrust/iterator/zip_iterator.h>  // Correct path to zip_iterator\n",
    "#include <thrust/tuple.h>  // Explicitly include tuple\n",
    "#include <thrust/execution_policy.h>\n",
    "#include <cstdio>\n",
    "\n",
    "struct Particle {\n",
    "    float x, y;    // position\n",
    "};\n",
    "\n",
    "int main() {\n",
    "    // Create two sets of particles\n",
    "    thrust::device_vector<Particle> before{\n",
    "        {0.0f, 0.0f},\n",
    "        {1.0f, 2.0f},\n",
    "        {-1.0f, -1.0f}\n",
    "    };\n",
    "    \n",
    "    thrust::device_vector<Particle> after{\n",
    "        {0.1f, 0.05f},\n",
    "        {0.95f, 2.02f},\n",
    "        {-0.97f, -0.93f}\n",
    "    };\n",
    "    \n",
    "    // Create a zip iterator to combine both vectors\n",
    "    auto zip = thrust::make_zip_iterator(thrust::make_tuple(before.begin(), after.begin()));\n",
    "    \n",
    "    // Access the first particle pair\n",
    "    auto pair = *zip;\n",
    "    Particle p1 = thrust::get<0>(pair);  // Use copy instead of reference for device memory\n",
    "    Particle p2 = thrust::get<1>(pair);  // Use copy instead of reference for device memory\n",
    "    \n",
    "    printf(\"First particle before: (%.2f, %.2f)\\n\", p1.x, p1.y);\n",
    "    printf(\"First particle after: (%.2f, %.2f)\\n\", p2.x, p2.y);\n",
    "    \n",
    "    return 0;\n",
    "}"
   ]
  },
  {
   "cell_type": "code",
   "execution_count": 9,
   "id": "928d1035-6c88-46b0-a3b5-37cd83e5e98d",
   "metadata": {},
   "outputs": [
    {
     "name": "stdout",
     "output_type": "stream",
     "text": [
      "First particle before: (0.00, 0.00)\n",
      "First particle after: (0.10, 0.05)\n"
     ]
    }
   ],
   "source": [
    "%%bash\n",
    "nvcc -o codes/thrust_zip codes/thrust_zip.cu\n",
    "./codes/thrust_zip"
   ]
  },
  {
   "cell_type": "markdown",
   "id": "ef0c3794-4db6-42ad-a9a3-802ea9436721",
   "metadata": {},
   "source": [
    "## Combining Zip and Transform Iterators\n",
    "Now let's combine **thrust::zip_iterator** with **thrust::transform_iterator** to compute displacements:"
   ]
  },
  {
   "cell_type": "code",
   "execution_count": 10,
   "id": "599ab92d-3324-4685-a20a-ed0d2fa2fd4a",
   "metadata": {},
   "outputs": [
    {
     "name": "stdout",
     "output_type": "stream",
     "text": [
      "Overwriting codes/thrust_combined.cu\n"
     ]
    }
   ],
   "source": [
    "%%writefile codes/thrust_combined.cu\n",
    "#include <thrust/device_vector.h>  // Use device_vector instead of universal_vector for better compatibility\n",
    "#include <thrust/iterator/zip_iterator.h>  // Correct path for zip iterator\n",
    "#include <thrust/iterator/transform_iterator.h>  // Correct path for transform iterator\n",
    "#include <thrust/tuple.h>  // Explicitly include tuple header\n",
    "#include <thrust/execution_policy.h>\n",
    "#include <cstdio>\n",
    "#include <cmath>\n",
    "\n",
    "struct Particle {\n",
    "    float x, y;    // position\n",
    "};\n",
    "\n",
    "int main() {\n",
    "    // Create two sets of particles\n",
    "    thrust::device_vector<Particle> before{\n",
    "        {0.0f, 0.0f},\n",
    "        {1.0f, 2.0f},\n",
    "        {-1.0f, -1.0f}\n",
    "    };\n",
    "    \n",
    "    thrust::device_vector<Particle> after{\n",
    "        {0.1f, 0.05f},\n",
    "        {0.95f, 2.02f},\n",
    "        {-0.97f, -0.93f}\n",
    "    };\n",
    "    \n",
    "    // Create a zip iterator\n",
    "    auto zip = thrust::make_zip_iterator(thrust::make_tuple(before.begin(), after.begin()));\n",
    "    \n",
    "    // Create a transform iterator that computes displacement\n",
    "    auto displacement = thrust::make_transform_iterator(zip, \n",
    "        [] __host__ __device__ (const thrust::tuple<Particle, Particle>& t) {\n",
    "            const Particle& p1 = thrust::get<0>(t);\n",
    "            const Particle& p2 = thrust::get<1>(t);\n",
    "            \n",
    "            float dx = p2.x - p1.x;\n",
    "            float dy = p2.y - p1.y;\n",
    "            return sqrt(dx*dx + dy*dy);\n",
    "        });\n",
    "    \n",
    "    // Print the first few displacements\n",
    "    printf(\"Particle 0 displacement: %.4f\\n\", displacement[0]);\n",
    "    printf(\"Particle 1 displacement: %.4f\\n\", displacement[1]);\n",
    "    printf(\"Particle 2 displacement: %.4f\\n\", displacement[2]);\n",
    "    \n",
    "    return 0;\n",
    "}"
   ]
  },
  {
   "cell_type": "code",
   "execution_count": 11,
   "id": "36754ea8-bfef-43c0-bda7-4ce7909db0ef",
   "metadata": {},
   "outputs": [
    {
     "name": "stdout",
     "output_type": "stream",
     "text": [
      "Particle 0 displacement: 0.1118\n",
      "Particle 1 displacement: 0.0539\n",
      "Particle 2 displacement: 0.0762\n"
     ]
    }
   ],
   "source": [
    "%%bash\n",
    "nvcc --extended-lambda -o codes/thrust_combined codes/thrust_combined.cu\n",
    "./codes/thrust_combined "
   ]
  },
  {
   "cell_type": "markdown",
   "id": "d0bf17d3-cb30-4627-a64c-18512fb4309e",
   "metadata": {},
   "source": [
    "## Optimized Implementation\n",
    "Now we can rewrite our maximum displacement function using these iterators:"
   ]
  },
  {
   "cell_type": "code",
   "execution_count": 16,
   "id": "f07ff7fc-7868-4ef1-9236-801f4b385751",
   "metadata": {},
   "outputs": [
    {
     "name": "stdout",
     "output_type": "stream",
     "text": [
      "Overwriting codes/optimized_max_displacement.cu\n"
     ]
    }
   ],
   "source": [
    "%%writefile codes/optimized_max_displacement.cu\n",
    "\n",
    "#include <thrust/device_vector.h>  // Changed from universal_vector\n",
    "#include <thrust/transform.h>\n",
    "#include <thrust/execution_policy.h>\n",
    "#include <thrust/iterator/zip_iterator.h>  // Fixed path\n",
    "#include <thrust/iterator/transform_iterator.h>  // Fixed path\n",
    "#include <thrust/reduce.h>\n",
    "#include <thrust/tuple.h>  // Added missing header\n",
    "#include <cstdio>\n",
    "#include <cmath>\n",
    "\n",
    "struct Particle {\n",
    "    float x, y;    // position\n",
    "    float vx, vy;  // velocity\n",
    "};\n",
    "\n",
    "// Optimized approach using iterators\n",
    "float optimized_max_displacement(const thrust::device_vector<Particle>& before, \n",
    "                                const thrust::device_vector<Particle>& after) \n",
    "{\n",
    "    // Create a zip iterator to combine both vectors\n",
    "    auto zip = thrust::make_zip_iterator(thrust::make_tuple(before.begin(), after.begin()));\n",
    "    \n",
    "    // Create a transform iterator that computes displacement\n",
    "    auto displacement = thrust::make_transform_iterator(zip, \n",
    "        [] __host__ __device__ (const thrust::tuple<Particle, Particle>& t) {  // Fixed attributes\n",
    "            const Particle& p1 = thrust::get<0>(t);\n",
    "            const Particle& p2 = thrust::get<1>(t);\n",
    "            \n",
    "            float dx = p2.x - p1.x;\n",
    "            float dy = p2.y - p1.y;\n",
    "            return sqrt(dx*dx + dy*dy);\n",
    "        });\n",
    "    \n",
    "    // Find maximum displacement directly from the transform iterator\n",
    "    return thrust::reduce(thrust::device, \n",
    "                         displacement, \n",
    "                         displacement + before.size(),\n",
    "                         0.0f, thrust::maximum<float>{});\n",
    "}\n",
    "\n",
    "int main() \n",
    "{\n",
    "    float dt = 0.1f;  // time step\n",
    "    \n",
    "    // Create two arrays to store particle states in alternating steps\n",
    "    thrust::device_vector<Particle> particles[2] = {  // Changed from universal_vector\n",
    "        // Initial state\n",
    "        {\n",
    "            {0.0f, 0.0f, 1.0f, 0.5f},    // Particle 1\n",
    "            {1.0f, 2.0f, -0.5f, 0.2f},   // Particle 2\n",
    "            {-1.0f, -1.0f, 0.3f, 0.7f}   // Particle 3\n",
    "        },\n",
    "        // Empty state for next timestep\n",
    "        {}\n",
    "    };\n",
    "    particles[1].resize(particles[0].size());\n",
    "    \n",
    "    // Update function - applies velocity to position\n",
    "    auto update_particle = [=] __host__ __device__ (const Particle& p) {  // Fixed attributes\n",
    "        Particle updated = p;\n",
    "        updated.x += p.vx * dt;\n",
    "        updated.y += p.vy * dt;\n",
    "        return updated;\n",
    "    };\n",
    "    \n",
    "    std::printf(\"step  max_displacement\\n\");\n",
    "    for (int step = 0; step < 3; step++) {\n",
    "        // Get references to current and next state arrays\n",
    "        thrust::device_vector<Particle>& current = particles[step % 2];\n",
    "        thrust::device_vector<Particle>& next = particles[(step + 1) % 2];\n",
    "        \n",
    "        // Update particle positions\n",
    "        thrust::transform(thrust::device, \n",
    "                         current.begin(), current.end(), \n",
    "                         next.begin(), \n",
    "                         update_particle);\n",
    "        \n",
    "        // Calculate maximum displacement\n",
    "        float max_disp = optimized_max_displacement(current, next);\n",
    "        std::printf(\"%d     %.4f\\n\", step, max_disp);\n",
    "    }\n",
    "    \n",
    "return 0;\n",
    "}"
   ]
  },
  {
   "cell_type": "code",
   "execution_count": 17,
   "id": "be50a171-6772-4363-9753-92774732dd0f",
   "metadata": {},
   "outputs": [
    {
     "name": "stdout",
     "output_type": "stream",
     "text": [
      "step  max_displacement\n",
      "0     0.1118\n",
      "1     0.1118\n",
      "2     0.1118\n"
     ]
    }
   ],
   "source": [
    "%%bash\n",
    "nvcc --extended-lambda -o codes/optimized_max_displacement codes/optimized_max_displacement.cu\n",
    "./codes/optimized_max_displacement "
   ]
  },
  {
   "cell_type": "markdown",
   "id": "48fff521-d7db-4dd9-ac7d-205669f746c3",
   "metadata": {},
   "source": [
    "The key improvement is that we no longer need to allocate a temporary vector to store displacements. The transform iterator computes them on-the-fly during the reduction operation.\n"
   ]
  },
  {
   "cell_type": "markdown",
   "id": "0f8167c3-fa9c-4890-bff6-908cc433584a",
   "metadata": {},
   "source": [
    "# Performance Evaluation\n",
    "Let's compare the performance of both approaches with a large number of particles:"
   ]
  },
  {
   "cell_type": "code",
   "execution_count": 18,
   "id": "f33c8ba1-21d8-48c6-bc24-36e1832c81f7",
   "metadata": {},
   "outputs": [
    {
     "name": "stdout",
     "output_type": "stream",
     "text": [
      "Overwriting codes/performance_comparison.cu\n"
     ]
    }
   ],
   "source": [
    "%%writefile codes/performance_comparison.cu\n",
    "\n",
    "#include <thrust/device_vector.h>  // Changed from universal_vector\n",
    "#include <thrust/transform.h>\n",
    "#include <thrust/execution_policy.h>\n",
    "#include <thrust/iterator/zip_iterator.h>  // Fixed path\n",
    "#include <thrust/iterator/transform_iterator.h>  // Fixed path\n",
    "#include <thrust/reduce.h>\n",
    "#include <thrust/sequence.h>\n",
    "#include <thrust/tuple.h>  // Added missing header\n",
    "#include <chrono>\n",
    "#include <cstdio>\n",
    "#include <cmath>\n",
    "\n",
    "struct Particle {\n",
    "    float x, y;    // position\n",
    "};\n",
    "\n",
    "// Naive approach with temporary storage\n",
    "float naive_max_displacement(const thrust::device_vector<Particle>& before, \n",
    "                           const thrust::device_vector<Particle>& after) \n",
    "{\n",
    "    // Allocate vector to store displacements\n",
    "    thrust::device_vector<float> displacements(before.size());\n",
    "    // Compute displacements\n",
    "    thrust::transform(thrust::device, \n",
    "                     before.begin(), before.end(),\n",
    "                     after.begin(),\n",
    "                     displacements.begin(),\n",
    "                     [] __host__ __device__ (const Particle& p1, const Particle& p2) {  // Fixed attributes\n",
    "                         float dx = p2.x - p1.x;\n",
    "                         float dy = p2.y - p1.y;\n",
    "                         return sqrt(dx*dx + dy*dy);\n",
    "                     });\n",
    "    // Find maximum displacement\n",
    "    return thrust::reduce(thrust::device, \n",
    "                         displacements.begin(), \n",
    "                         displacements.end(), \n",
    "                         0.0f, thrust::maximum<float>{});\n",
    "}\n",
    "\n",
    "// Optimized approach using iterators\n",
    "float optimized_max_displacement(const thrust::device_vector<Particle>& before, \n",
    "                                const thrust::device_vector<Particle>& after) \n",
    "{\n",
    "    // Create a zip iterator\n",
    "    auto zip = thrust::make_zip_iterator(thrust::make_tuple(before.begin(), after.begin()));\n",
    "    \n",
    "    // Create a transform iterator\n",
    "    auto displacement = thrust::make_transform_iterator(zip, \n",
    "        [] __host__ __device__ (const thrust::tuple<Particle, Particle>& t) {  // Fixed attributes\n",
    "            const Particle& p1 = thrust::get<0>(t);\n",
    "            const Particle& p2 = thrust::get<1>(t);\n",
    "            \n",
    "            float dx = p2.x - p1.x;\n",
    "            float dy = p2.y - p1.y;\n",
    "            return sqrt(dx*dx + dy*dy);\n",
    "        });\n",
    "    \n",
    "    // Find maximum displacement\n",
    "    return thrust::reduce(thrust::device, \n",
    "                         displacement, \n",
    "                         displacement + before.size(),\n",
    "                         0.0f, thrust::maximum<float>{});\n",
    "}\n",
    "\n",
    "int main() \n",
    "{\n",
    "    // Create large particle arrays (16 million particles)\n",
    "    // Reduced size for testing - 16M particles may be too much for some systems\n",
    "    const int NUM_PARTICLES = 1 << 20;  // Using 1M particles instead of 16M for initial testing\n",
    "    \n",
    "    thrust::device_vector<Particle> before(NUM_PARTICLES);\n",
    "    thrust::device_vector<Particle> after(NUM_PARTICLES);\n",
    "    \n",
    "    // Initialize with some values\n",
    "    // Note: This initialization is inefficient - should use thrust::transform for GPU\n",
    "    thrust::device_vector<int> indices(NUM_PARTICLES);\n",
    "    thrust::sequence(indices.begin(), indices.end());\n",
    "    \n",
    "    thrust::transform(indices.begin(), indices.end(), before.begin(),\n",
    "        [] __host__ __device__ (int i) {\n",
    "            Particle p;\n",
    "            p.x = i;\n",
    "            p.y = NUM_PARTICLES - i;\n",
    "            return p;\n",
    "        });\n",
    "        \n",
    "    thrust::transform(indices.begin(), indices.end(), after.begin(),\n",
    "        [] __host__ __device__ (int i) {\n",
    "            Particle p;\n",
    "            p.x = i + 0.5f;\n",
    "            p.y = NUM_PARTICLES - i - 0.2f;\n",
    "            return p;\n",
    "        });\n",
    "    \n",
    "    // Measure naive approach time (include allocation)\n",
    "    auto start_naive = std::chrono::high_resolution_clock::now();\n",
    "    float naive_result = naive_max_displacement(before, after);\n",
    "    auto end_naive = std::chrono::high_resolution_clock::now();\n",
    "    \n",
    "    // Measure optimized approach time\n",
    "    auto start_optimized = std::chrono::high_resolution_clock::now();\n",
    "    float optimized_result = optimized_max_displacement(before, after);\n",
    "    auto end_optimized = std::chrono::high_resolution_clock::now();\n",
    "    \n",
    "    // Calculate durations in milliseconds\n",
    "    float naive_time = std::chrono::duration<float, std::milli>(end_naive - start_naive).count();\n",
    "    float optimized_time = std::chrono::duration<float, std::milli>(end_optimized - start_optimized).count();\n",
    "    \n",
    "    // Print results\n",
    "    printf(\"Naive approach: %.3f ms, result = %.6f\\n\", naive_time, naive_result);\n",
    "    printf(\"Optimized approach: %.3f ms, result = %.6f\\n\", optimized_time, optimized_result);\n",
    "    printf(\"Speedup: %.2fx\\n\", naive_time / optimized_time);\n",
    "    \n",
    "    return 0;\n",
    "}"
   ]
  },
  {
   "cell_type": "code",
   "execution_count": 19,
   "id": "7ce0201d-061e-4733-90d9-77ab5de22a77",
   "metadata": {},
   "outputs": [
    {
     "name": "stdout",
     "output_type": "stream",
     "text": [
      "Naive approach: 0.657 ms, result = 0.539685\n",
      "Optimized approach: 0.329 ms, result = 0.539685\n",
      "Speedup: 2.00x\n"
     ]
    }
   ],
   "source": [
    "%%bash                                           \n",
    "nvcc --extended-lambda -o codes/performance_comparison codes/performance_comparison.cu               \n",
    "./codes/performance_comparison                                                                "
   ]
  },
  {
   "cell_type": "markdown",
   "id": "94a52214-89a9-4250-9889-22f112cf82e8",
   "metadata": {},
   "source": [
    "# Summary\n",
    "In this notebook, we've explored how to use iterators to extend and optimize standard algorithms. The key takeaways are:\n",
    "\n",
    "- **Iterators are powerful** abstractions that allow us to work with sequences of elements\n",
    "- **Transform iterators** apply operations on-the-fly during element access\n",
    "- **Zip iterators** combine multiple sequences into a single sequence of tuples\n",
    "- **Combining iterators** can eliminate the need for temporary storage\n",
    "- **Memory-bound operations** benefit significantly from reducing memory operations\n",
    "\n",
    "By using these techniques, we optimized our particle simulation to find the maximum displacement without allocating any temporary storage, resulting in significant performance improvements for large simulations.\n",
    "\n",
    "## Next Steps\n",
    "You can continue to explore other Thrust iterators like:\n",
    "\n",
    "- thrust::constant_iterator: Produces a sequence of identical values\n",
    "- thrust::counting_iterator: Produces a sequence of consecutive values\n",
    "- thrust::permutation_iterator: Reorders elements of another sequence\n",
    "\n",
    "These iterators can help you optimize other aspects of particle simulations, like computing physical interactions efficiently."
   ]
  },
  {
   "cell_type": "code",
   "execution_count": null,
   "id": "2c0dd140-5df2-4d35-bdf5-2b0221dc6547",
   "metadata": {},
   "outputs": [],
   "source": []
  }
 ],
 "metadata": {
  "kernelspec": {
   "display_name": "CUDA",
   "language": "python",
   "name": "cuda"
  },
  "language_info": {
   "codemirror_mode": {
    "name": "ipython",
    "version": 3
   },
   "file_extension": ".py",
   "mimetype": "text/x-python",
   "name": "python",
   "nbconvert_exporter": "python",
   "pygments_lexer": "ipython3",
   "version": "3.13.2"
  }
 },
 "nbformat": 4,
 "nbformat_minor": 5
}
