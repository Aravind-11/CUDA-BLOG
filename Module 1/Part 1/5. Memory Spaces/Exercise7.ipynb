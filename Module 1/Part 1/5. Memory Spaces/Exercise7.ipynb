{
 "cells": [
  {
   "cell_type": "markdown",
   "id": "0a297c68-a569-48c0-8b24-e0419a0ad949",
   "metadata": {},
   "source": [
    "# Exercise: Explicit Memory Management in Particle Simulation\n",
    "\n",
    "## Background\n",
    "For reference, here's how to copy between thrust vectors:\n",
    "```cpp\n",
    "thrust::copy(src_vector.begin(), src_vector.end(), dst_vector.begin());\n",
    "```\n",
    "\n",
    "## The Problem\n",
    "Rewrite the particle simulation code below to use `thrust::device_vector` and `thrust::host_vector` instead of `thrust::universal_vector`:\n",
    "\n",
    "```cpp"
   ]
  },
  {
   "cell_type": "code",
   "execution_count": 1,
   "id": "88e0a82a-4de3-4470-8105-9f252343d9bf",
   "metadata": {},
   "outputs": [],
   "source": [
    "#Specifying path to where nvcc exists so that the jupyter notebook reads from it. nvcc is the nvidia cuda compiler for executing cuda. \n",
    "import os\n",
    "os.environ['PATH'] = \"/packages/apps/spack/21/opt/spack/linux-rocky8-zen3/gcc-12.1.0/cuda-12.6.1-cf4xlcbcfpwchqwo5bktxyhjagryzcx6/bin:\" + os.environ['PATH']"
   ]
  },
  {
   "cell_type": "code",
   "execution_count": null,
   "id": "51cb9f40-7af8-4ea0-ac92-6b530c0ca884",
   "metadata": {},
   "outputs": [],
   "source": [
    "%%writefile codes/basic_thrust_particles.cu\n",
    "\n",
    "#include <thrust/universal_vector.h>\n",
    "#include <thrust/execution_policy.h>\n",
    "#include <chrono>\n",
    "#include <cstdio>\n",
    "\n",
    "// Original code using universal_vector\n",
    "int main() {\n",
    "    const int N = 1000000;  // 1 million particles\n",
    "    \n",
    "    // Initialize with positions/velocities\n",
    "    thrust::universal_vector<float> data(N * 4);\n",
    "    for(int i = 0; i < N; i++) {\n",
    "        data[i*4 + 0] = i * 0.1f;     // x position\n",
    "        data[i*4 + 1] = i * -0.1f;    // y position\n",
    "        data[i*4 + 2] = 1.0f;         // x velocity \n",
    "        data[i*4 + 3] = -0.5f;        // y velocity\n",
    "    }\n",
    "    \n",
    "    // Main simulation loop\n",
    "    for(int frame = 0; frame < 100; frame++) {\n",
    "        // GPU computation\n",
    "        simulate_particles(data);\n",
    "        \n",
    "        // Periodically save data to disk (CPU operation)\n",
    "        if(frame % 10 == 0) {\n",
    "            save_particles_to_file(data, frame);\n",
    "        }\n",
    "        \n",
    "        // Print some statistics (CPU operation)\n",
    "        if(frame % 25 == 0) {\n",
    "            print_statistics(data);\n",
    "        }\n",
    "    }\n",
    "    \n",
    "    return 0;\n",
    "}"
   ]
  },
  {
   "cell_type": "code",
   "execution_count": null,
   "id": "ab905421-c37b-4764-8891-64960fb6da91",
   "metadata": {},
   "outputs": [],
   "source": [
    "%%bash\n",
    "nvcc -o codes/basic_pair_particles --extended-lambda codes/basic_pair_particles.cu\n",
    "./codes/basic_pair_particles"
   ]
  },
  {
   "cell_type": "markdown",
   "id": "90dd29f6-4981-4ad1-a45f-a382cb472f30",
   "metadata": {},
   "source": [
    "## Your Tasks:\n",
    "1. Modify the code to use separate host and device vectors\n",
    "2. Only copy data between CPU/GPU when necessary for operations\n",
    "3. Keep particle simulation running on GPU as much as possible\n",
    "4. Compare performance with the original version\n",
    "\n",
    "## Expected Output:\n",
    "Your code should produce similar output but faster:\n",
    "```\n",
    "Frame 0 statistics:\n",
    "  Average position: (X, Y)\n",
    "  Average velocity: (X, Y)\n",
    "Saved frame 0\n",
    "...\n",
    "Simulation completed in X.XXX seconds\n",
    "```\n",
    "\n",
    "## Hints:\n",
    "- `simulate_particles()` works on GPU and should take device_vector\n",
    "- `save_particles_to_file()` and `print_statistics()` need CPU access\n",
    "- Try to minimize data transfers between host and device\n",
    "\n",
    "Good luck!\n",
    "## Solution\n",
    "You can find the complete solution in [Solution.ipynb](./solutions/solution7.ipynb). Try to solve the exercise yourself before checking the solution!"
   ]
  },
  {
   "cell_type": "code",
   "execution_count": null,
   "id": "9d1e5f61-0500-4b4b-a19a-d1d6b6d0c982",
   "metadata": {},
   "outputs": [],
   "source": []
  }
 ],
 "metadata": {
  "kernelspec": {
   "display_name": "CUDA",
   "language": "python",
   "name": "cuda"
  },
  "language_info": {
   "codemirror_mode": {
    "name": "ipython",
    "version": 3
   },
   "file_extension": ".py",
   "mimetype": "text/x-python",
   "name": "python",
   "nbconvert_exporter": "python",
   "pygments_lexer": "ipython3",
   "version": "3.13.2"
  }
 },
 "nbformat": 4,
 "nbformat_minor": 5
}
