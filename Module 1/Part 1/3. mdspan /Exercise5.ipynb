{
 "cells": [
  {
   "cell_type": "markdown",
   "id": "e0361423-bc98-484b-94d4-984c6168d2ae",
   "metadata": {},
   "source": [
    "# Exercise: `mdspan` for Particle Simulation\n",
    "\n",
    "## Background\n",
    "The exercise involves converting a basic particle simulation system to use `cuda::std::mdspan`. The original code uses raw pointer arithmetic to handle particle data, which can be error-prone and harder to maintain.\n",
    "\n",
    "Usage of `cuda::std::mdspan` API for your reference:"
   ]
  },
  {
   "cell_type": "markdown",
   "id": "80c95bfa-15e1-4d13-ad9e-e3e08110a229",
   "metadata": {},
   "source": [
    "```\n",
    "int height = 2;\n",
    "int width = 3;\n",
    "cuda::std::array<int, 6> sd {0, 1, 2, 3, 4, 5};\n",
    "cuda::std::mdspan md(sd.data(), height, width);\n",
    "\n",
    "std::printf(\"md(0, 0) = %d\\n\", md(0, 0)); // 0\n",
    "std::printf(\"md(1, 2) = %d\\n\", md(1, 2)); // 5\n",
    "\n",
    "std::printf(\"size   = %zu\\n\", md.size());    // 6\n",
    "std::printf(\"height = %zu\\n\", md.extent(0)); // 2\n",
    "std::printf(\"width  = %zu\\n\", md.extent(1)); // 3\n",
    "``` "
   ]
  },
  {
   "cell_type": "markdown",
   "id": "0c3b4084-2288-4b57-ad83-947c14af79f3",
   "metadata": {},
   "source": [
    "## Exercise\n",
    "Complete the exercise below by adding the use of `cuda::std::mdspan` instead of using raw pointer arithmetic. The code simulates particles moving in 2D space.\n",
    "\n",
    "Here's the code to modify:\n"
   ]
  },
  {
   "cell_type": "code",
   "execution_count": 3,
   "id": "0d33f2c7-58a6-49c2-ae75-12cce3376171",
   "metadata": {},
   "outputs": [],
   "source": [
    "#Specifying path to where nvcc exists so that the jupyter notebook reads from it. nvcc is the nvidia cuda compiler for executing cuda. \n",
    "import os\n",
    "os.environ['PATH'] = \"/packages/apps/spack/21/opt/spack/linux-rocky8-zen3/gcc-12.1.0/cuda-12.6.1-cf4xlcbcfpwchqwo5bktxyhjagryzcx6/bin:\" + os.environ['PATH']"
   ]
  },
  {
   "cell_type": "code",
   "execution_count": 2,
   "id": "2c80aca2-5114-4151-946d-5ed3401117b4",
   "metadata": {},
   "outputs": [
    {
     "name": "stdout",
     "output_type": "stream",
     "text": [
      "Writing codes/mdspan_particles_exc.cu\n"
     ]
    }
   ],
   "source": [
    "%%writefile codes/mdspan_particles_exc.cu\n",
    "#include <thrust/universal_vector.h>\n",
    "#include <thrust/transform.h>\n",
    "#include <thrust/execution_policy.h>\n",
    "#include <cstdio>\n",
    "\n",
    "void simulate_particles(int num_particles, float dt,\n",
    "                       const thrust::universal_vector<float> &in,\n",
    "                             thrust::universal_vector<float> &out) {\n",
    "    const float *in_ptr = thrust::raw_pointer_cast(in.data());\n",
    "    \n",
    "    thrust::transform(\n",
    "        thrust::device,\n",
    "        in.begin(), \n",
    "        in.end() - num_particles,\n",
    "        out.begin(),\n",
    "        [in_ptr, num_particles, dt] __device__ (float val) {\n",
    "            int idx = &val - in_ptr;\n",
    "            int particle_idx = idx / 4;\n",
    "            int component = idx % 4;\n",
    "            \n",
    "            if (component < 2) {  // Position components\n",
    "                return val + dt * in_ptr[particle_idx * 4 + component + 2];\n",
    "            }\n",
    "            return val;  // Velocity components unchanged\n",
    "        }\n",
    "    );\n",
    "}"
   ]
  },
  {
   "cell_type": "code",
   "execution_count": null,
   "id": "8166818b-d721-4135-9f20-3f75e3440da1",
   "metadata": {},
   "outputs": [],
   "source": [
    "%%bash\n",
    "nvcc -o codes/mdspan_particles_exc --extended-lambda codes/mdspan_particles_exc.cu\n",
    "./codes/mdspan_particles_exc"
   ]
  },
  {
   "cell_type": "markdown",
   "id": "34e92da1-6263-4918-8b3b-a20beaaedcf8",
   "metadata": {},
   "source": [
    "Your task is to:\n",
    "1. Create an mdspan view of the particle data\n",
    "2. Replace the raw pointer arithmetic with mdspan operations\n",
    "3. Use mdspan's extent methods to handle array dimensions\n",
    "\n",
    "## Hints\n",
    "<details>\n",
    "<summary>Click for hints</summary>\n",
    "\n",
    "- Consider using `cuda::std::mdspan` with dimensions (num_particles, 4) where 4 represents (x, y, vx, vy)\n",
    "- Use `md(particle_idx, component)` to access particle data instead of pointer arithmetic\n",
    "- You can use `md.extent(0)` to get number of particles and `md.extent(1)` to get number of components\n",
    "</details>\n",
    "\n",
    "## Solution\n",
    "<details>\n",
    "<summary>Click to see solution</summary>\n",
    "\n",
    "```cpp\n",
    "void simulate_particles(int num_particles, float dt,\n",
    "                       const thrust::universal_vector<float> &in,\n",
    "                             thrust::universal_vector<float> &out) {\n",
    "    \n",
    "    cuda::std::mdspan particles(thrust::raw_pointer_cast(in.data()), \n",
    "                               num_particles, 4);\n",
    "    \n",
    "    thrust::transform(\n",
    "        thrust::device,\n",
    "        in.begin(), \n",
    "        in.end() - particles.extent(0),\n",
    "        out.begin(),\n",
    "        [particles, dt] __device__ (float val) {\n",
    "            int idx = &val - particles.data_handle();\n",
    "            int particle_idx = idx / particles.extent(1);\n",
    "            int component = idx % particles.extent(1);\n",
    "            \n",
    "            if (component < 2) {  // Position components\n",
    "                return val + dt * particles(particle_idx, component + 2);\n",
    "            }\n",
    "            return val;  // Velocity components unchanged\n",
    "        }\n",
    "    );\n",
    "}\n",
    "```\n",
    "\n",
    "Key improvements:\n",
    "- Created 2D mdspan view of particle data\n",
    "- Replaced manual pointer arithmetic with mdspan's operator()\n",
    "- Used mdspan's extent methods for array dimensions\n",
    "- Code is more readable and less error-prone\n",
    "</details>"
   ]
  },
  {
   "cell_type": "code",
   "execution_count": null,
   "id": "6a58fd12-b73f-420e-b41e-225481c52b86",
   "metadata": {},
   "outputs": [],
   "source": []
  }
 ],
 "metadata": {
  "kernelspec": {
   "display_name": "CUDA",
   "language": "python",
   "name": "cuda"
  },
  "language_info": {
   "codemirror_mode": {
    "name": "ipython",
    "version": 3
   },
   "file_extension": ".py",
   "mimetype": "text/x-python",
   "name": "python",
   "nbconvert_exporter": "python",
   "pygments_lexer": "ipython3",
   "version": "3.13.2"
  }
 },
 "nbformat": 4,
 "nbformat_minor": 5
}
