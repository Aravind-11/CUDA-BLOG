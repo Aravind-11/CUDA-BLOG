{
 "cells": [
  {
   "cell_type": "markdown",
   "id": "6112b5c9-7aa5-40a7-ad39-9ae366e395bf",
   "metadata": {},
   "source": [
    "# Exercise: Average Force by Region\n",
    "\n",
    "## Background\n",
    "In our particle force field simulation, we often want to analyze the average forces in different regions of space. This helps us understand the overall behavior of the force field. Currently, we calculate total forces, but mean forces per region would be more informative.\n",
    "\n",
    "## The Problem\n",
    "Modify the force field calculation to compute the mean force in each region of a grid, rather than just the total force. The space is divided into a grid of regions, and we want to know the average force magnitude in each region.\n",
    "\n",
    "## Starting Code\n",
    "Here's the code structure you need to modify:\n"
   ]
  },
  {
   "cell_type": "code",
   "execution_count": 1,
   "id": "30c9a6d0-0741-436d-b152-43234245ac82",
   "metadata": {},
   "outputs": [],
   "source": [
    "#Specifying path to where nvcc exists so that the jupyter notebook reads from it. nvcc is the nvidia cuda compiler for executing cuda. \n",
    "import os\n",
    "os.environ['PATH'] = \"/packages/apps/spack/21/opt/spack/linux-rocky8-zen3/gcc-12.1.0/cuda-12.6.1-cf4xlcbcfpwchqwo5bktxyhjagryzcx6/bin:\" + os.environ['PATH']"
   ]
  },
  {
   "cell_type": "code",
   "execution_count": 2,
   "id": "4146b75c-5b4a-43d3-8904-371a5eabbbd3",
   "metadata": {},
   "outputs": [
    {
     "name": "stdout",
     "output_type": "stream",
     "text": [
      "Writing codes/avg_force.cu\n"
     ]
    }
   ],
   "source": [
    "%%writefile codes/avg_force.cu\n",
    "\n",
    "#include <thrust/universal_vector.h>\n",
    "#include <thrust/execution_policy.h>\n",
    "#include <thrust/iterator/transform_output_iterator.h>\n",
    "\n",
    "// Structure to track force and count for averaging\n",
    "struct ForceAccumulator {\n",
    "    float force_sum;\n",
    "    int count;\n",
    "    \n",
    "    __host__ __device__\n",
    "    ForceAccumulator() : force_sum(0.0f), count(0) {}\n",
    "    \n",
    "    __host__ __device__\n",
    "    ForceAccumulator operator+(const ForceAccumulator& other) const {\n",
    "        return {force_sum + other.force_sum, count + other.count};\n",
    "    }\n",
    "};\n",
    "\n",
    "// Current implementation that needs to be modified\n",
    "struct mean_force_functor {\n",
    "    __host__ __device__\n",
    "    float operator()(const ForceAccumulator& acc) const {\n",
    "        return acc.count > 0 ? acc.force_sum / acc.count : 0.0f;\n",
    "    }\n",
    "};\n",
    "\n",
    "thrust::universal_vector<float> calculate_region_forces(\n",
    "    int grid_size,\n",
    "    const thrust::universal_vector<float>& positions,\n",
    "    const thrust::universal_vector<float>& forces) \n",
    "{\n",
    "    thrust::universal_vector<float> region_means(grid_size * grid_size);\n",
    "    \n",
    "    // TODO: Replace this with transform_output_iterator approach\n",
    "    // Current inefficient two-step approach:\n",
    "    // 1. First reduces forces into regions\n",
    "    // 2. Then transforms totals into means\n",
    "    \n",
    "    // Your implementation here\n",
    "    \n",
    "    return region_means;\n",
    "}"
   ]
  },
  {
   "cell_type": "code",
   "execution_count": null,
   "id": "0887f3c5-2fa6-44e8-a87d-64f456c0b4ce",
   "metadata": {},
   "outputs": [],
   "source": [
    "%%bash\n",
    "nvcc -o codes/avg_force --extended-lambda codes/avg_force.cu\n",
    "./codes/avg_force"
   ]
  },
  {
   "cell_type": "markdown",
   "id": "6f8e785e-d714-4104-9add-c03cd4ec96c0",
   "metadata": {},
   "source": [
    "## Your Tasks:\n",
    "\n",
    "1. Use `thrust::make_transform_output_iterator` to compute means in a single pass\n",
    "2. Remove the separate transform step\n",
    "3. Ensure proper handling of empty regions (where count = 0)\n",
    "4. Compare performance with the original two-step approach\n",
    "\n",
    "## Expected Output:\n",
    "```\n",
    "Region (0,0) mean force: X.XXX\n",
    "Region (0,1) mean force: X.XXX\n",
    "...\n",
    "Region (N,N) mean force: X.XXX\n",
    "\n",
    "Performance comparison:\n",
    "Original two-step: X.XXX ms\n",
    "Single-pass with transform_output_iterator: X.XXX ms\n",
    "```\n",
    "\n",
    "## Hints:\n",
    "- The transform_output_iterator can compute the mean as values are being reduced\n",
    "- Remember to handle the case where a region has no particles\n",
    "- Consider using a zip_iterator if you need to track multiple values per region\n",
    "\n",
    "## Extension Challenges:\n",
    "1. Add weighted averaging based on particle mass\n",
    "2. Compute both mean and variance in a single pass\n",
    "3. Implement adaptive grid sizing based on particle density\n",
    "\n",
    "## Solution\n",
    "You can find the complete solution in [Solution-Mean-Force-By-Region.ipynb](./solutions/Solution-6.1.ipynb). Try to solve the exercise yourself before checking the solution!"
   ]
  },
  {
   "cell_type": "code",
   "execution_count": null,
   "id": "90ffa7de-d2d7-4847-b6d5-d105c2f275c5",
   "metadata": {},
   "outputs": [],
   "source": []
  }
 ],
 "metadata": {
  "kernelspec": {
   "display_name": "CUDA",
   "language": "python",
   "name": "cuda"
  },
  "language_info": {
   "codemirror_mode": {
    "name": "ipython",
    "version": 3
   },
   "file_extension": ".py",
   "mimetype": "text/x-python",
   "name": "python",
   "nbconvert_exporter": "python",
   "pygments_lexer": "ipython3",
   "version": "3.13.2"
  }
 },
 "nbformat": 4,
 "nbformat_minor": 5
}
