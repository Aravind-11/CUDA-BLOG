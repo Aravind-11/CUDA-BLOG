{
 "cells": [
  {
   "cell_type": "markdown",
   "id": "c297f087-2cc6-423f-867b-a6656f496963",
   "metadata": {},
   "source": [
    "# Understanding CUDA Execution Spaces with Particle Simulation\n",
    "\n",
    "This notebook guides you through understanding CUDA execution spaces by implementing a simple particle simulation. We'll start with CPU code and gradually transition to GPU acceleration.\n",
    "\n",
    "<img src=\"./images/image2.jpg\" width=\"1000\" height=\"800\">\n",
    "\n",
    "### What Are Execution Spaces?\n",
    "\n",
    "In CUDA programming, \"execution spaces\" refer to where your code runs:\n",
    "\n",
    "**Host**: This is the CPU\n",
    "\n",
    "**Device**: This is the GPU\n",
    "\n",
    "One of the most important concepts in CUDA is that you must **explicitly** specify which code runs where. Let's explore this concept step by step.\n",
    "\n",
    "## 1. Basic CPU Implementation\n",
    "First, let's create a simple particle simulation using CPU only:"
   ]
  },
  {
   "cell_type": "code",
   "execution_count": 1,
   "id": "305edc39-ac23-4ad1-a4f3-00a9b2bb3146",
   "metadata": {},
   "outputs": [],
   "source": [
    "#Specifying path to where nvcc exists so that the jupyter notebook reads from it. nvcc is the nvidia cuda compiler for executing cuda. \n",
    "import os\n",
    "os.environ['PATH'] = \"/packages/apps/spack/21/opt/spack/linux-rocky8-zen3/gcc-12.1.0/cuda-12.6.1-cf4xlcbcfpwchqwo5bktxyhjagryzcx6/bin:\" + os.environ['PATH']"
   ]
  },
  {
   "cell_type": "code",
   "execution_count": 2,
   "id": "c0430af5-db6d-4953-be9d-868b1be5eab3",
   "metadata": {},
   "outputs": [
    {
     "name": "stdout",
     "output_type": "stream",
     "text": [
      "Overwriting codes/particles_cpu.cpp\n"
     ]
    }
   ],
   "source": [
    "%%writefile codes/particles_cpu.cpp\n",
    "#include <cstdio>\n",
    "#include <vector>\n",
    "#include <cmath>\n",
    "\n",
    "struct Particle {\n",
    "    float x, y;    // position\n",
    "    float vx, vy;  // velocity\n",
    "};\n",
    "\n",
    "int main() {\n",
    "    // Simulation parameters\n",
    "    float dt = 0.1f;  // time step\n",
    "    \n",
    "    // Create some particles with initial positions and velocities\n",
    "    std::vector<Particle> particles = {\n",
    "        {0.0f, 0.0f, 1.0f, 0.5f},\n",
    "        {1.0f, 2.0f, -0.5f, 0.2f},\n",
    "        {-1.0f, -1.0f, 0.3f, 0.7f}\n",
    "    };\n",
    "    \n",
    "    // Print initial state\n",
    "    printf(\"Step 0:\\n\");\n",
    "    for (int i = 0; i < particles.size(); i++) {\n",
    "        printf(\"Particle %d: pos=(%.2f, %.2f) vel=(%.2f, %.2f)\\n\", \n",
    "                i, particles[i].x, particles[i].y, particles[i].vx, particles[i].vy);\n",
    "    }\n",
    "    \n",
    "    // Run simulation for 3 steps\n",
    "    for (int step = 1; step <= 3; step++) {\n",
    "        // Update each particle position based on its velocity\n",
    "        for (int i = 0; i < particles.size(); i++) {\n",
    "            particles[i].x += particles[i].vx * dt;\n",
    "            particles[i].y += particles[i].vy * dt;\n",
    "        }\n",
    "        \n",
    "        // Print results\n",
    "        printf(\"\\nStep %d:\\n\", step);\n",
    "        for (int i = 0; i < particles.size(); i++) {\n",
    "            printf(\"Particle %d: pos=(%.2f, %.2f) vel=(%.2f, %.2f)\\n\", \n",
    "                   i, particles[i].x, particles[i].y, particles[i].vx, particles[i].vy);\n",
    "        }\n",
    "    }\n",
    "    \n",
    "    return 0;\n",
    "}"
   ]
  },
  {
   "cell_type": "code",
   "execution_count": 3,
   "id": "77c610db-bdb2-43d2-9153-ac4a84838247",
   "metadata": {},
   "outputs": [
    {
     "name": "stdout",
     "output_type": "stream",
     "text": [
      "Step 0:\n",
      "Particle 0: pos=(0.00, 0.00) vel=(1.00, 0.50)\n",
      "Particle 1: pos=(1.00, 2.00) vel=(-0.50, 0.20)\n",
      "Particle 2: pos=(-1.00, -1.00) vel=(0.30, 0.70)\n",
      "\n",
      "Step 1:\n",
      "Particle 0: pos=(0.10, 0.05) vel=(1.00, 0.50)\n",
      "Particle 1: pos=(0.95, 2.02) vel=(-0.50, 0.20)\n",
      "Particle 2: pos=(-0.97, -0.93) vel=(0.30, 0.70)\n",
      "\n",
      "Step 2:\n",
      "Particle 0: pos=(0.20, 0.10) vel=(1.00, 0.50)\n",
      "Particle 1: pos=(0.90, 2.04) vel=(-0.50, 0.20)\n",
      "Particle 2: pos=(-0.94, -0.86) vel=(0.30, 0.70)\n",
      "\n",
      "Step 3:\n",
      "Particle 0: pos=(0.30, 0.15) vel=(1.00, 0.50)\n",
      "Particle 1: pos=(0.85, 2.06) vel=(-0.50, 0.20)\n",
      "Particle 2: pos=(-0.91, -0.79) vel=(0.30, 0.70)\n"
     ]
    }
   ],
   "source": [
    "%%bash\n",
    "g++ codes/particles_cpu.cpp -o codes/particles_cpu\n",
    "./codes/particles_cpu"
   ]
  },
  {
   "cell_type": "markdown",
   "id": "ae00f236-3f0c-47f3-b0cc-841987a15cd4",
   "metadata": {},
   "source": [
    "## 2. Refactoring with Algorithm Approach\n",
    "Next, let's refactor our code to use the inbuilt **transforms** method in c++, which will make it easier to port to CUDA:"
   ]
  },
  {
   "cell_type": "code",
   "execution_count": 4,
   "id": "bd6e3c60-fc04-4d78-8c0a-56c169197f03",
   "metadata": {},
   "outputs": [
    {
     "name": "stdout",
     "output_type": "stream",
     "text": [
      "Overwriting codes/particles_algo.cpp\n"
     ]
    }
   ],
   "source": [
    "%%writefile codes/particles_algo.cpp\n",
    "#include <cstdio>\n",
    "#include <vector>\n",
    "#include <algorithm>\n",
    "\n",
    "struct Particle {\n",
    "    float x, y;    // position\n",
    "    float vx, vy;  // velocity\n",
    "};\n",
    "\n",
    "int main() {\n",
    "    // Simulation parameters\n",
    "    float dt = 0.1f;  // time step\n",
    "    \n",
    "    // Create some particles with initial positions and velocities\n",
    "    std::vector<Particle> particles = {\n",
    "        {0.0f, 0.0f, 1.0f, 0.5f},\n",
    "        {1.0f, 2.0f, -0.5f, 0.2f},\n",
    "        {-1.0f, -1.0f, 0.3f, 0.7f}\n",
    "    };\n",
    "    \n",
    "    // Define a transformation function\n",
    "    auto update_position = [dt](Particle p) {\n",
    "        p.x += p.vx * dt;\n",
    "        p.y += p.vy * dt;\n",
    "        return p;\n",
    "    };\n",
    "    \n",
    "    // Print initial state\n",
    "    printf(\"Step 0:\\n\");\n",
    "    for (int i = 0; i < particles.size(); i++) {\n",
    "        printf(\"Particle %d: pos=(%.2f, %.2f) vel=(%.2f, %.2f)\\n\", \n",
    "                i, particles[i].x, particles[i].y, particles[i].vx, particles[i].vy);\n",
    "    }\n",
    "    \n",
    "    // Run simulation for 3 steps\n",
    "    for (int step = 1; step <= 3; step++) {\n",
    "        // Transform each particle using the algorithm\n",
    "        std::transform(particles.begin(), particles.end(), particles.begin(), update_position);\n",
    "        \n",
    "        // Print results\n",
    "        printf(\"\\nStep %d:\\n\", step);\n",
    "        for (int i = 0; i < particles.size(); i++) {\n",
    "            printf(\"Particle %d: pos=(%.2f, %.2f) vel=(%.2f, %.2f)\\n\", \n",
    "                   i, particles[i].x, particles[i].y, particles[i].vx, particles[i].vy);\n",
    "        }\n",
    "    }\n",
    "    \n",
    "    return 0;\n",
    "}"
   ]
  },
  {
   "cell_type": "code",
   "execution_count": 5,
   "id": "dd8042c4-07db-4fd7-84a5-2331ea907ab2",
   "metadata": {},
   "outputs": [
    {
     "name": "stdout",
     "output_type": "stream",
     "text": [
      "Step 0:\n",
      "Particle 0: pos=(0.00, 0.00) vel=(1.00, 0.50)\n",
      "Particle 1: pos=(1.00, 2.00) vel=(-0.50, 0.20)\n",
      "Particle 2: pos=(-1.00, -1.00) vel=(0.30, 0.70)\n",
      "\n",
      "Step 1:\n",
      "Particle 0: pos=(0.10, 0.05) vel=(1.00, 0.50)\n",
      "Particle 1: pos=(0.95, 2.02) vel=(-0.50, 0.20)\n",
      "Particle 2: pos=(-0.97, -0.93) vel=(0.30, 0.70)\n",
      "\n",
      "Step 2:\n",
      "Particle 0: pos=(0.20, 0.10) vel=(1.00, 0.50)\n",
      "Particle 1: pos=(0.90, 2.04) vel=(-0.50, 0.20)\n",
      "Particle 2: pos=(-0.94, -0.86) vel=(0.30, 0.70)\n",
      "\n",
      "Step 3:\n",
      "Particle 0: pos=(0.30, 0.15) vel=(1.00, 0.50)\n",
      "Particle 1: pos=(0.85, 2.06) vel=(-0.50, 0.20)\n",
      "Particle 2: pos=(-0.91, -0.79) vel=(0.30, 0.70)\n"
     ]
    }
   ],
   "source": [
    "%%bash\n",
    "g++ codes/particles_algo.cpp -o codes/particles_algo\n",
    "./codes/particles_algo"
   ]
  },
  {
   "cell_type": "markdown",
   "id": "1b867229-f585-4bdd-865f-1177ea8008df",
   "metadata": {},
   "source": [
    "## 3. Compiling with NVCC \n",
    "Now let's see what happens if we simply compile our code with NVCC "
   ]
  },
  {
   "cell_type": "code",
   "execution_count": 6,
   "id": "0e3850b8-104a-40c1-8998-7bfbb121bdf4",
   "metadata": {},
   "outputs": [
    {
     "name": "stdout",
     "output_type": "stream",
     "text": [
      "Overwriting codes/particles_nvcc.cu\n"
     ]
    }
   ],
   "source": [
    "%%writefile codes/particles_nvcc.cu\n",
    "// Same content as particles_algo.cpp, just with a different file extension\n",
    "#include <cstdio>\n",
    "#include <vector>\n",
    "#include <algorithm>\n",
    "\n",
    "struct Particle {\n",
    "    float x, y;    // position\n",
    "    float vx, vy;  // velocity\n",
    "};\n",
    "\n",
    "int main() {\n",
    "    // Simulation parameters\n",
    "    float dt = 0.1f;  // time step\n",
    "    \n",
    "    // Create some particles with initial positions and velocities\n",
    "    std::vector<Particle> particles = {\n",
    "        {0.0f, 0.0f, 1.0f, 0.5f},\n",
    "        {1.0f, 2.0f, -0.5f, 0.2f},\n",
    "        {-1.0f, -1.0f, 0.3f, 0.7f}\n",
    "    };\n",
    "    \n",
    "    // Define a transformation function\n",
    "    auto update_position = [dt](Particle p) {\n",
    "        p.x += p.vx * dt;\n",
    "        p.y += p.vy * dt;\n",
    "        return p;\n",
    "    };\n",
    "    \n",
    "    // Print initial state\n",
    "    printf(\"Step 0:\\n\");\n",
    "    for (int i = 0; i < particles.size(); i++) {\n",
    "        printf(\"Particle %d: pos=(%.2f, %.2f) vel=(%.2f, %.2f)\\n\", \n",
    "                i, particles[i].x, particles[i].y, particles[i].vx, particles[i].vy);\n",
    "    }\n",
    "    \n",
    "    // Run simulation for 3 steps\n",
    "    for (int step = 1; step <= 3; step++) {\n",
    "        // Transform each particle using the algorithm\n",
    "        std::transform(particles.begin(), particles.end(), particles.begin(), update_position);\n",
    "        \n",
    "        // Print results\n",
    "        printf(\"\\nStep %d:\\n\", step);\n",
    "        for (int i = 0; i < particles.size(); i++) {\n",
    "            printf(\"Particle %d: pos=(%.2f, %.2f) vel=(%.2f, %.2f)\\n\", \n",
    "                   i, particles[i].x, particles[i].y, particles[i].vx, particles[i].vy);\n",
    "        }\n",
    "    }\n",
    "    \n",
    "    return 0;\n",
    "}"
   ]
  },
  {
   "cell_type": "code",
   "execution_count": 7,
   "id": "eec29622-e0f2-46b8-99c9-0a6f2755f68a",
   "metadata": {},
   "outputs": [
    {
     "name": "stdout",
     "output_type": "stream",
     "text": [
      "Step 0:\n",
      "Particle 0: pos=(0.00, 0.00) vel=(1.00, 0.50)\n",
      "Particle 1: pos=(1.00, 2.00) vel=(-0.50, 0.20)\n",
      "Particle 2: pos=(-1.00, -1.00) vel=(0.30, 0.70)\n",
      "\n",
      "Step 1:\n",
      "Particle 0: pos=(0.10, 0.05) vel=(1.00, 0.50)\n",
      "Particle 1: pos=(0.95, 2.02) vel=(-0.50, 0.20)\n",
      "Particle 2: pos=(-0.97, -0.93) vel=(0.30, 0.70)\n",
      "\n",
      "Step 2:\n",
      "Particle 0: pos=(0.20, 0.10) vel=(1.00, 0.50)\n",
      "Particle 1: pos=(0.90, 2.04) vel=(-0.50, 0.20)\n",
      "Particle 2: pos=(-0.94, -0.86) vel=(0.30, 0.70)\n",
      "\n",
      "Step 3:\n",
      "Particle 0: pos=(0.30, 0.15) vel=(1.00, 0.50)\n",
      "Particle 1: pos=(0.85, 2.06) vel=(-0.50, 0.20)\n",
      "Particle 2: pos=(-0.91, -0.79) vel=(0.30, 0.70)\n"
     ]
    }
   ],
   "source": [
    "%%bash\n",
    "nvcc -x cu codes/particles_nvcc.cu -o codes/particles_nvcc\n",
    "./codes/particles_nvcc"
   ]
  },
  {
   "cell_type": "markdown",
   "id": "2311fdb4-4f00-4508-8498-f9bde0ffe704",
   "metadata": {},
   "source": [
    "**Key insight**: Although we compiled with NVCC, all our code is still **running on the CPU!** This demonstrates an important point about CUDA: just using the NVCC compiler doesn't automatically make your code run on the GPU. You need to explicitly specify which parts should run on the device."
   ]
  },
  {
   "cell_type": "markdown",
   "id": "ca0c19d0-7945-4775-a318-fdd31654040f",
   "metadata": {},
   "source": [
    "## 4. Using Thrust to Move Computation to GPU\n",
    "Now let's actually move our computation to the GPU using Thrust:"
   ]
  },
  {
   "cell_type": "code",
   "execution_count": 44,
   "id": "086faffc-78a9-4988-9f16-3917a2608e4f",
   "metadata": {},
   "outputs": [
    {
     "name": "stdout",
     "output_type": "stream",
     "text": [
      "Overwriting codes/particles_thrust.cu\n"
     ]
    }
   ],
   "source": [
    "%%writefile codes/particles_thrust.cu\n",
    "#include <thrust/device_vector.h>\n",
    "#include <thrust/host_vector.h>\n",
    "#include <thrust/transform.h>\n",
    "#include <thrust/execution_policy.h>\n",
    "#include <cstdio>\n",
    "\n",
    "struct Particle {\n",
    "    float x, y;    // position\n",
    "    float vx, vy;  // velocity\n",
    "};\n",
    "\n",
    "// Define a functor for updating positions\n",
    "struct UpdatePosition {\n",
    "    const float dt;\n",
    "    \n",
    "    UpdatePosition(float _dt) : dt(_dt) {}\n",
    "    \n",
    "    __host__ __device__\n",
    "    Particle operator()(const Particle& p) const {\n",
    "        Particle updated = p;\n",
    "        updated.x += p.vx * dt;\n",
    "        updated.y += p.vy * dt;\n",
    "        return updated;\n",
    "    }\n",
    "};\n",
    "\n",
    "int main() {\n",
    "    // Simulation parameters\n",
    "    float dt = 0.1f;  // time step\n",
    "    \n",
    "    // Create particles on the host (CPU)\n",
    "    thrust::host_vector<Particle> h_particles = {\n",
    "        {0.0f, 0.0f, 1.0f, 0.5f},\n",
    "        {1.0f, 2.0f, -0.5f, 0.2f},\n",
    "        {-1.0f, -1.0f, 0.3f, 0.7f}\n",
    "    };\n",
    "    \n",
    "    // Copy particles to the device (GPU)\n",
    "    thrust::device_vector<Particle> d_particles = h_particles;\n",
    "    \n",
    "    // Create our transformation functor\n",
    "    UpdatePosition updater(dt);\n",
    "    \n",
    "    // Print initial state\n",
    "    printf(\"Step 0:\\n\");\n",
    "    for (int i = 0; i < h_particles.size(); i++) {\n",
    "        printf(\"Particle %d: pos=(%.2f, %.2f) vel=(%.2f, %.2f)\\n\", \n",
    "                i, h_particles[i].x, h_particles[i].y, h_particles[i].vx, h_particles[i].vy);\n",
    "    }\n",
    "    \n",
    "    // Run simulation for 3 steps\n",
    "    for (int step = 1; step <= 3; step++) {\n",
    "        // Update positions on the GPU\n",
    "        thrust::transform(thrust::device, \n",
    "                         d_particles.begin(), d_particles.end(), \n",
    "                         d_particles.begin(), \n",
    "                         updater);\n",
    "        \n",
    "        // Copy results back to the host\n",
    "        thrust::copy(d_particles.begin(), d_particles.end(), h_particles.begin());\n",
    "        \n",
    "        // Print results\n",
    "        printf(\"\\nStep %d:\\n\", step);\n",
    "        for (int i = 0; i < h_particles.size(); i++) {\n",
    "            printf(\"Particle %d: pos=(%.2f, %.2f) vel=(%.2f, %.2f)\\n\", \n",
    "                   i, h_particles[i].x, h_particles[i].y, h_particles[i].vx, h_particles[i].vy);\n",
    "        }\n",
    "    }\n",
    "    \n",
    "    return 0;\n",
    "}"
   ]
  },
  {
   "cell_type": "code",
   "execution_count": 45,
   "id": "ce729c93-ddb8-4f93-af8a-f17234927443",
   "metadata": {},
   "outputs": [
    {
     "name": "stdout",
     "output_type": "stream",
     "text": [
      "Step 0:\n",
      "Particle 0: pos=(0.00, 0.00) vel=(1.00, 0.50)\n",
      "Particle 1: pos=(1.00, 2.00) vel=(-0.50, 0.20)\n",
      "Particle 2: pos=(-1.00, -1.00) vel=(0.30, 0.70)\n",
      "\n",
      "Step 1:\n",
      "Particle 0: pos=(0.10, 0.05) vel=(1.00, 0.50)\n",
      "Particle 1: pos=(0.95, 2.02) vel=(-0.50, 0.20)\n",
      "Particle 2: pos=(-0.97, -0.93) vel=(0.30, 0.70)\n",
      "\n",
      "Step 2:\n",
      "Particle 0: pos=(0.20, 0.10) vel=(1.00, 0.50)\n",
      "Particle 1: pos=(0.90, 2.04) vel=(-0.50, 0.20)\n",
      "Particle 2: pos=(-0.94, -0.86) vel=(0.30, 0.70)\n",
      "\n",
      "Step 3:\n",
      "Particle 0: pos=(0.30, 0.15) vel=(1.00, 0.50)\n",
      "Particle 1: pos=(0.85, 2.06) vel=(-0.50, 0.20)\n",
      "Particle 2: pos=(-0.91, -0.79) vel=(0.30, 0.70)\n"
     ]
    }
   ],
   "source": [
    "%%bash\n",
    "nvcc codes/particles_thrust.cu -o codes/particles_thrust\n",
    "./codes/particles_thrust"
   ]
  },
  {
   "cell_type": "markdown",
   "id": "d6452f4a-2b4e-46f0-bb4f-9162e567317a",
   "metadata": {},
   "source": [
    "### Key changes:\n",
    "\n",
    "1.We use **thrust::host_vector** and **thrust::device_vector** to manage memory on CPU and GPU.  \n",
    "\n",
    "2.We create a functor with __host__ __device__ specifiers, indicating it can run on both CPU and GPU.  \n",
    "\n",
    "3.We use **thrust::transform** with **thrust::device** execution policy to perform computation on GPU.  \n",
    "\n",
    "4.We explicitly copy data between host and device.  \n"
   ]
  },
  {
   "cell_type": "code",
   "execution_count": null,
   "id": "d3728082-e2af-4268-872b-486b4d7e8d30",
   "metadata": {},
   "outputs": [],
   "source": []
  }
 ],
 "metadata": {
  "kernelspec": {
   "display_name": "CUDA",
   "language": "python",
   "name": "cuda"
  },
  "language_info": {
   "codemirror_mode": {
    "name": "ipython",
    "version": 3
   },
   "file_extension": ".py",
   "mimetype": "text/x-python",
   "name": "python",
   "nbconvert_exporter": "python",
   "pygments_lexer": "ipython3",
   "version": "3.13.2"
  }
 },
 "nbformat": 4,
 "nbformat_minor": 5
}
