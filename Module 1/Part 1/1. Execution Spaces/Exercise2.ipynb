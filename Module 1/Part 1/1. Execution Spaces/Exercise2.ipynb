{
 "cells": [
  {
   "cell_type": "markdown",
   "id": "f93e6a63-9bd8-45c9-a087-0b6a778b80cf",
   "metadata": {},
   "source": [
    "# Exercise: Computing Median Particle Velocity with GPU Acceleration\n",
    "\n",
    "In our particle simulation work, we often need to calculate statistical properties of the system, such as the median velocity. In this exercise, we'll port a CPU-based median calculation to run on the GPU.\n",
    "\n",
    "\n",
    "## The Task\n",
    "\n",
    "We have a particle simulation that updates particle positions and velocities over time. We want to calculate the median velocity at each step to understand the overall system behavior. Currently, we have a CPU-based implementation of the median function, but we want to port it to run on the GPU for better performance.\n",
    "Here's the starting code that uses the CPU for the median calculation:"
   ]
  },
  {
   "cell_type": "code",
   "execution_count": 3,
   "id": "231a8bb9-c9ff-418e-98b1-606abf1a5409",
   "metadata": {},
   "outputs": [],
   "source": [
    "#Specifying path to where nvcc exists so that the jupyter notebook reads from it. nvcc is the nvidia cuda compiler for executing cuda. \n",
    "import os\n",
    "os.environ['PATH'] = \"/packages/apps/spack/21/opt/spack/linux-rocky8-zen3/gcc-12.1.0/cuda-12.6.1-cf4xlcbcfpwchqwo5bktxyhjagryzcx6/bin:\" + os.environ['PATH']"
   ]
  },
  {
   "cell_type": "code",
   "execution_count": 1,
   "id": "54d0b81e-2db7-4dcd-b004-5c3e5ad165d9",
   "metadata": {},
   "outputs": [
    {
     "name": "stdout",
     "output_type": "stream",
     "text": [
      "Overwriting codes/particle_median_cpu.cu\n"
     ]
    }
   ],
   "source": [
    "%%writefile codes/particle_median_cpu.cu\n",
    "#include <thrust/universal_vector.h>\n",
    "#include <thrust/transform.h>\n",
    "#include <thrust/execution_policy.h>\n",
    "#include <algorithm>\n",
    "#include <cstdio>\n",
    "\n",
    "struct Particle {\n",
    "    float x, y;    // position\n",
    "    float vx, vy;  // velocity\n",
    "};\n",
    "\n",
    "// Calculate magnitude of velocity vector\n",
    "float velocity_magnitude(float vx, float vy) {\n",
    "    return sqrt(vx*vx + vy*vy);\n",
    "}\n",
    "\n",
    "// CPU implementation of median calculation\n",
    "float median_velocity(thrust::universal_vector<Particle> particles) \n",
    "{\n",
    "    // Extract velocity magnitudes\n",
    "    thrust::universal_vector<float> velocities(particles.size());\n",
    "    for (size_t i = 0; i < particles.size(); i++) {\n",
    "        velocities[i] = velocity_magnitude(particles[i].vx, particles[i].vy);\n",
    "    }\n",
    "    \n",
    "    // Use standard C++ algorithm to sort on CPU\n",
    "    std::sort(velocities.begin(), velocities.end());\n",
    "    \n",
    "    // Return the median value\n",
    "    return velocities[velocities.size() / 2];\n",
    "}\n",
    "\n",
    "int main() \n",
    "{\n",
    "    // Simulation parameters\n",
    "    float dt = 0.1f;  // time step\n",
    "    float damping = 0.98f;  // velocity damping factor\n",
    "    \n",
    "    // Initial particle states\n",
    "    thrust::universal_vector<Particle> particles{\n",
    "        {0.0f, 0.0f, 1.0f, 0.5f},    // Particle 1\n",
    "        {1.0f, 2.0f, -0.5f, 0.2f},   // Particle 2\n",
    "        {-1.0f, -1.0f, 0.3f, 0.7f},  // Particle 3\n",
    "        {2.0f, -2.0f, -0.1f, -0.8f}, // Particle 4\n",
    "        {3.0f, 1.0f, -0.4f, 0.6f}    // Particle 5\n",
    "    };\n",
    "    \n",
    "    // Update function (runs on GPU)\n",
    "    auto update_particle = [=] __host__ __device__ (Particle p) { \n",
    "        // Update position based on velocity\n",
    "        p.x += p.vx * dt;\n",
    "        p.y += p.vy * dt;\n",
    "        \n",
    "        // Apply damping to velocities\n",
    "        p.vx *= damping;\n",
    "        p.vy *= damping;\n",
    "        \n",
    "        return p;\n",
    "    };\n",
    "    \n",
    "    // Simulation loop\n",
    "    std::printf(\"step  median_velocity\\n\");\n",
    "    for (int step = 0; step < 3; step++) {\n",
    "        // Update particles on GPU\n",
    "        thrust::transform(thrust::device, \n",
    "                         particles.begin(), particles.end(), \n",
    "                         particles.begin(), \n",
    "                         update_particle);\n",
    "        \n",
    "        // Calculate median velocity on CPU\n",
    "        float median_vel = median_velocity(particles);\n",
    "        \n",
    "        std::printf(\"%d     %.4f\\n\", step, median_vel);\n",
    "    }\n",
    "}"
   ]
  },
  {
   "cell_type": "markdown",
   "id": "0aeb851f-8574-4943-8e6d-bec126b1060b",
   "metadata": {},
   "source": [
    "Let's compile and run this CPU version:\n"
   ]
  },
  {
   "cell_type": "code",
   "execution_count": 6,
   "id": "e6593958-0d4b-441b-b4fa-3fa6b8fe1091",
   "metadata": {},
   "outputs": [
    {
     "name": "stdout",
     "output_type": "stream",
     "text": [
      "step  median_velocity\n",
      "0     0.7463\n",
      "1     0.7314\n",
      "2     0.7168\n"
     ]
    }
   ],
   "source": [
    "%%bash\n",
    "nvcc -o codes/particle_median_cpu --extended-lambda codes/particle_median_cpu.cu\n",
    "./codes/particle_median_cpu"
   ]
  },
  {
   "cell_type": "markdown",
   "id": "88613806-e06a-47e4-8b17-458b682c17d0",
   "metadata": {},
   "source": [
    "# Your Challenge: Port to GPU\n",
    "Now, modify the median_velocity function to use the GPU instead of the CPU. The main changes you'll need to make are:\n",
    "\n",
    "1. Use thrust::transform to calculate velocity magnitudes on the GPU\n",
    "\n",
    "2. Replace std::sort with thrust::sort and run it on the GPU\n",
    "\n",
    "3. Make sure all operations maintain GPU acceleration\n",
    "\n",
    "Here's the template for your modified code:"
   ]
  },
  {
   "cell_type": "code",
   "execution_count": 7,
   "id": "420d5863-1418-463e-8936-9c8615ecfe25",
   "metadata": {},
   "outputs": [
    {
     "name": "stdout",
     "output_type": "stream",
     "text": [
      "Writing codes/particle_median_gpu.cu\n"
     ]
    }
   ],
   "source": [
    "%%writefile codes/particle_median_gpu.cu\n",
    "#include <thrust/universal_vector.h>\n",
    "#include <thrust/transform.h>\n",
    "#include <thrust/sort.h>\n",
    "#include <thrust/execution_policy.h>\n",
    "#include <cstdio>\n",
    "\n",
    "struct Particle {\n",
    "    float x, y;    // position\n",
    "    float vx, vy;  // velocity\n",
    "};\n",
    "\n",
    "// TODO: Modify this function to use GPU for all operations\n",
    "float median_velocity(thrust::universal_vector<Particle> particles) \n",
    "{\n",
    "    // Extract velocity magnitudes (should use GPU)\n",
    "    thrust::universal_vector<float> velocities(particles.size());\n",
    "    \n",
    "    // TODO: Replace the CPU loop with a GPU operation\n",
    "    \n",
    "    // TODO: Replace std::sort with GPU-accelerated version\n",
    "    \n",
    "    // Return the median value\n",
    "    return velocities[velocities.size() / 2];\n",
    "}\n",
    "\n",
    "int main() \n",
    "{\n",
    "    // Simulation parameters\n",
    "    float dt = 0.1f;  // time step\n",
    "    float damping = 0.98f;  // velocity damping factor\n",
    "    \n",
    "    // Initial particle states\n",
    "    thrust::universal_vector<Particle> particles{\n",
    "        {0.0f, 0.0f, 1.0f, 0.5f},    // Particle 1\n",
    "        {1.0f, 2.0f, -0.5f, 0.2f},   // Particle 2\n",
    "        {-1.0f, -1.0f, 0.3f, 0.7f},  // Particle 3\n",
    "        {2.0f, -2.0f, -0.1f, -0.8f}, // Particle 4\n",
    "        {3.0f, 1.0f, -0.4f, 0.6f}    // Particle 5\n",
    "    };\n",
    "    \n",
    "    // Update function (runs on GPU)\n",
    "    auto update_particle = [=] __host__ __device__ (Particle p) { \n",
    "        // Update position based on velocity\n",
    "        p.x += p.vx * dt;\n",
    "        p.y += p.vy * dt;\n",
    "        \n",
    "        // Apply damping to velocities\n",
    "        p.vx *= damping;\n",
    "        p.vy *= damping;\n",
    "        \n",
    "        return p;\n",
    "    };\n",
    "    \n",
    "    // Simulation loop\n",
    "    std::printf(\"step  median_velocity\\n\");\n",
    "    for (int step = 0; step < 3; step++) {\n",
    "        // Update particles on GPU\n",
    "        thrust::transform(thrust::device, \n",
    "                         particles.begin(), particles.end(), \n",
    "                         particles.begin(), \n",
    "                         update_particle);\n",
    "        \n",
    "        // Calculate median velocity (should use GPU now)\n",
    "        float median_vel = median_velocity(particles);\n",
    "        \n",
    "        std::printf(\"%d     %.4f\\n\", step, median_vel);\n",
    "    }\n",
    "}"
   ]
  },
  {
   "cell_type": "markdown",
   "id": "fdee5d81-82aa-4a20-9871-9ccd3c03b075",
   "metadata": {},
   "source": [
    "After implementing your solution, compile and run it:\n"
   ]
  },
  {
   "cell_type": "code",
   "execution_count": 8,
   "id": "02ced665-7bba-460d-a76e-c56f0313d7a4",
   "metadata": {},
   "outputs": [
    {
     "name": "stdout",
     "output_type": "stream",
     "text": [
      "step  median_velocity\n",
      "0     0.0000\n",
      "1     0.0000\n",
      "2     0.0000\n"
     ]
    }
   ],
   "source": [
    "%%bash\n",
    "nvcc -o codes/particle_median_gpu --extended-lambda codes/particle_median_gpu.cu\n",
    "./codes/particle_median_gpu"
   ]
  },
  {
   "cell_type": "markdown",
   "id": "83339cd1-d3f7-415c-bf51-5e0a34c8aae6",
   "metadata": {},
   "source": [
    "# Particle Median Velocity - Hints and Solution\n",
    "\n",
    "## Hints\n",
    "\n",
    "<details>\n",
    "<summary>👉 Hint 1: Velocity Magnitude Calculation</summary>\n",
    "\n",
    "- You need to transform each Particle into its velocity magnitude\n",
    "- The velocity magnitude is `sqrt(vx*vx + vy*vy)`\n",
    "- Consider using `thrust::transform` with a lambda function\n",
    "- The lambda should take a `Particle` and return a `float`\n",
    "\n",
    "</details>\n",
    "\n",
    "<details>\n",
    "<summary>👉 Hint 2: Sorting on GPU</summary>\n",
    "\n",
    "- Instead of `std::sort`, use `thrust::sort`\n",
    "- `thrust::sort` works directly with device vectors\n",
    "- Don't forget to specify the execution policy (`thrust::device`)\n",
    "\n",
    "</details>\n",
    "\n",
    "<details>\n",
    "<summary>👉 Hint 3: Overall Structure</summary>\n",
    "\n",
    "Your solution should:\n",
    "1. Extract velocities using transform\n",
    "2. Sort the velocities on GPU\n",
    "3. Return the middle element for the median\n",
    "\n",
    "</details>\n",
    "\n",
    "## Solution\n",
    "\n",
    "<details>\n",
    "<summary>👉 Click to see complete solution</summary>\n",
    "\n",
    "```cpp\n",
    "float median_velocity(thrust::universal_vector<Particle> particles) \n",
    "{\n",
    "    // Extract velocity magnitudes using GPU\n",
    "    thrust::universal_vector<float> velocities(particles.size());\n",
    "    \n",
    "    thrust::transform(\n",
    "        thrust::device,\n",
    "        particles.begin(), \n",
    "        particles.end(),\n",
    "        velocities.begin(),\n",
    "        [] __device__ (const Particle& p) {\n",
    "            return sqrt(p.vx * p.vx + p.vy * p.vy);\n",
    "        }\n",
    "    );\n",
    "    \n",
    "    // Sort velocities on GPU\n",
    "    thrust::sort(\n",
    "        thrust::device,\n",
    "        velocities.begin(), \n",
    "        velocities.end()\n",
    "    );\n",
    "    \n",
    "    // Return the median value\n",
    "    return velocities[velocities.size() / 2];\n",
    "}\n",
    "```\n",
    "\n"
   ]
  },
  {
   "cell_type": "code",
   "execution_count": null,
   "id": "95e7dea2-4c2f-4df2-9c98-0c9e4d9b8919",
   "metadata": {},
   "outputs": [],
   "source": []
  }
 ],
 "metadata": {
  "kernelspec": {
   "display_name": "CUDA",
   "language": "python",
   "name": "cuda"
  },
  "language_info": {
   "codemirror_mode": {
    "name": "ipython",
    "version": 3
   },
   "file_extension": ".py",
   "mimetype": "text/x-python",
   "name": "python",
   "nbconvert_exporter": "python",
   "pygments_lexer": "ipython3",
   "version": "3.13.2"
  }
 },
 "nbformat": 4,
 "nbformat_minor": 5
}
